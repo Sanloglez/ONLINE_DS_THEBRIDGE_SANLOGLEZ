{
 "cells": [
  {
   "cell_type": "markdown",
   "id": "7dac771a",
   "metadata": {},
   "source": [
    "# SPRINT 12: ML: MODELOS SUPERVISADOS III. OTROS MODELOS Y REPASO\n",
    "\n",
    "## K-NEAREST NEIGHBOURS (KNN) - Clasificación y Regresión\n",
    "\n",
    "KNN es un algoritmo de aprendizaje supervisado basado en la proximidad entre vectores. No requiere entrenamiento tradicional: simplemente almacena los datos y compara distancias al hacer predicciones.\n",
    "\n",
    "🧠 Fundamento\n",
    "- Clasificación: Asigna una clase en base a la moda (mayoría) de los vecinos más cercanos.\n",
    "\n",
    "- Regresión: Predice un valor promedio de los vecinos más cercanos.\n",
    "\n",
    "🔁 Pasos para aplicar KNN (clasificación o regresión)"
   ]
  },
  {
   "cell_type": "code",
   "execution_count": null,
   "id": "ab153551",
   "metadata": {},
   "outputs": [],
   "source": [
    "# 1. Cargar y preparar datos\n",
    "\n",
    "import pandas as pd\n",
    "from sklearn.model_selection import train_test_split\n",
    "\n",
    "# 2. Escalar variables (muy importante en KNN)\n",
    "# KNN es muy sensible a la escala, así que es necesario normalizar \n",
    "# o estandarizar.\n",
    "\n",
    "from sklearn.preprocessing import StandardScaler\n",
    "scaler = StandardScaler()\n",
    "X_train = scaler.fit_transform(X_train)\n",
    "X_test = scaler.transform(X_test)\n",
    "\n",
    "# 3. Importar e instanciar el modelo\n",
    "\n",
    "from sklearn.neighbors import KNeighborsClassifier  # o KNeighborsRegressor\n",
    "knn = KNeighborsClassifier(n_neighbors=K)  # elegir K según análisis\n",
    "\n",
    "# 4. Entrenar el modelo (aunque KNN \"entrena\" simplemente almacenando dataset)\n",
    "\n",
    "knn.fit(X_train, y_train)\n",
    "\n",
    "# 5. Realizar predicciones\n",
    "\n",
    "y_pred = knn.predict(X_test)\n",
    "\n",
    "# 6. Evaluar el modelo\n",
    "# Clasificación: accuracy, matriz de confusión, F1...\n",
    "\n",
    "from sklearn.metrics import accuracy_score, confusion_matrix\n",
    "\n",
    "# Regresión: MAE, RMSE, R2\n",
    "\n",
    "from sklearn.metrics import mean_squared_error"
   ]
  },
  {
   "cell_type": "markdown",
   "id": "d7a700da",
   "metadata": {},
   "source": [
    "⚙️ Selección del valor óptimo de K\n",
    "- No hay un método exacto. Lo más habitual es probar varios valores (ej: de 1 a 20) y elegir el que maximice el rendimiento.\n",
    "\n",
    "- Valores pequeños → muy sensibles al ruido.\n",
    "\n",
    "- Valores grandes → modelos más estables pero menos precisos en clases minoritarias.\n",
    "\n",
    "Ejemplo de búsqueda de K óptimo:"
   ]
  },
  {
   "cell_type": "code",
   "execution_count": null,
   "id": "3dc0b444",
   "metadata": {},
   "outputs": [],
   "source": [
    "for k in range(1, 21):\n",
    "    knn = KNeighborsClassifier(n_neighbors=k)\n",
    "    knn.fit(X_train, y_train)\n",
    "    print(f\"K={k} → Accuracy: {knn.score(X_test, y_test)}\")"
   ]
  },
  {
   "cell_type": "markdown",
   "id": "7467892f",
   "metadata": {},
   "source": [
    "📎 Notas clave\n",
    "- KNN es lento con muchos datos, porque calcula distancias con todos los puntos.\n",
    "\n",
    "- Puede usarse tanto para problemas de clasificación como de regresión.\n",
    "\n",
    "- Requiere preprocesamiento cuidadoso (escalado de datos)."
   ]
  },
  {
   "cell_type": "markdown",
   "id": "c9cd2775",
   "metadata": {},
   "source": [
    "## 📌 Regresión Polinómica (Polynomial Regression)\n",
    "\n",
    "Cuando la relación entre variables no es lineal, una regresión lineal no es suficiente. La regresión polinómica permite capturar relaciones no lineales mediante la transformación de las variables originales en nuevas variables elevadas a potencias.\n",
    "\n",
    "🧠 Fundamento\n",
    "Consiste en ampliar el espacio de variables incluyendo:\n",
    "\n",
    "Potencias de las features originales: \n",
    "𝑥\n",
    ",\n",
    "𝑥\n",
    "2\n",
    ",\n",
    "𝑥\n",
    "3\n",
    ",\n",
    "…\n",
    "x,x \n",
    "2\n",
    " ,x \n",
    "3\n",
    " ,…\n",
    "\n",
    "Combinaciones entre variables (si hay más de una feature)\n",
    "\n",
    "Aunque el modelo sigue siendo lineal en los coeficientes, el comportamiento se vuelve no lineal respecto a las variables.\n",
    "\n",
    "🔁 Pasos para aplicar regresión polinómica"
   ]
  },
  {
   "cell_type": "code",
   "execution_count": null,
   "id": "c11a2e22",
   "metadata": {},
   "outputs": [],
   "source": [
    "# 1. Preparar los datos\n",
    "from sklearn.model_selection import train_test_split\n",
    "X = df[[\"feature\"]].values\n",
    "y = df[\"target\"].values\n",
    "\n",
    "# 2. Transformar las variables con PolynomialFeatures\n",
    "\n",
    "from sklearn.preprocessing import PolynomialFeatures\n",
    "poly = PolynomialFeatures(degree=d)  # d es el grado del polinomio\n",
    "X_poly = poly.fit_transform(X)\n",
    "\n",
    "# 3. Entrenar el modelo de regresión lineal\n",
    "\n",
    "from sklearn.linear_model import LinearRegression\n",
    "model = LinearRegression()\n",
    "model.fit(X_poly, y)\n",
    "\n",
    "# 4. Predecir nuevos valores\n",
    "#Recordar: hay que transformar las features antes de predecir\n",
    "\n",
    "X_test_poly = poly.transform(X_test)\n",
    "y_pred = model.predict(X_test_poly)"
   ]
  },
  {
   "cell_type": "markdown",
   "id": "bf4770c9",
   "metadata": {},
   "source": [
    "⚠️ Sobreajuste (Overfitting)\n",
    "Grados altos capturan muy bien el patrón del entrenamiento, pero generalizan mal.\n",
    "\n",
    "Es recomendable:\n",
    "\n",
    "- Usar validación cruzada para elegir el grado.\n",
    "\n",
    "- Visualizar el error en training vs test.\n",
    "\n",
    "- No pasar de grado 3-4 sin justificación sólida."
   ]
  },
  {
   "cell_type": "markdown",
   "id": "220290bc",
   "metadata": {},
   "source": [
    "## 📌 Support Vector Machine (SVM)\n",
    "\n",
    "SVM es un modelo supervisado de clasificación (también puede usarse en regresión). Su objetivo es encontrar el hiperplano que mejor separa las clases maximizando el margen entre los puntos de distintas clases.\n",
    "\n",
    "🧠 Fundamento\n",
    "- Busca el separador lineal con mayor margen entre las clases.\n",
    "\n",
    "- Los puntos más cercanos al hiperplano se llaman vectores de soporte, y determinan el modelo.\n",
    "\n",
    "- Si los datos no son separables linealmente, se recurre a kernels para transformar el espacio.\n",
    "\n",
    "🔁 Pasos para aplicar un modelo SVM (clasificación)"
   ]
  },
  {
   "cell_type": "code",
   "execution_count": null,
   "id": "0bffaf01",
   "metadata": {},
   "outputs": [],
   "source": [
    "# 1. Preparar los datos\n",
    "from sklearn.model_selection import train_test_split\n",
    "X_train, X_test, y_train, y_test = train_test_split(X, y)\n",
    "\n",
    "# 2. Escalado obligatorio\n",
    "from sklearn.preprocessing import StandardScaler\n",
    "scaler = StandardScaler()\n",
    "X_train = scaler.fit_transform(X_train)\n",
    "X_test = scaler.transform(X_test)\n",
    "\n",
    "# 3. Instanciar y entrenar el modelo\n",
    "from sklearn.svm import SVC\n",
    "model = SVC(kernel='linear', C=1)  # 'linear', 'poly', 'rbf'\n",
    "model.fit(X_train, y_train)\n",
    "\n",
    "# 4. Predecir y evaluar\n",
    "y_pred = model.predict(X_test)\n",
    "from sklearn.metrics import classification_report\n",
    "print(classification_report(y_test, y_pred))"
   ]
  },
  {
   "cell_type": "markdown",
   "id": "374ecda6",
   "metadata": {},
   "source": [
    "🔀 Parámetros importantes\n",
    "- kernel: tipo de transformación (ver más abajo).\n",
    "\n",
    "- C: penalización por errores (cuanto mayor, menos margen permite → modelo más estricto).\n",
    "\n",
    "- gamma: en kernels RBF, controla cuánto influye un solo punto (bajo = amplio, alto = localizado).\n",
    "\n",
    "🧪 Kernels: separación no lineal\n",
    "\n",
    "Cuando los datos no son linealmente separables, se usan kernels que transforman el espacio:\n",
    "| Kernel   | Descripción                              |\n",
    "| -------- | ---------------------------------------- |\n",
    "| `linear` | Hiperplano lineal                        |\n",
    "| `poly`   | Polinómico (grado definido con `degree`) |\n",
    "| `rbf`    | Radial (transforma a dimensión infinita) |\n"
   ]
  },
  {
   "cell_type": "code",
   "execution_count": null,
   "id": "5482cd87",
   "metadata": {},
   "outputs": [],
   "source": [
    "SVC(kernel='poly', degree=3)\n",
    "SVC(kernel='rbf', gamma=0.1)"
   ]
  },
  {
   "cell_type": "markdown",
   "id": "0444c62c",
   "metadata": {},
   "source": [
    "## 📉 SVM en regresión (SVR)\n",
    "\n",
    "También puede usarse para regresión, con SVR:"
   ]
  },
  {
   "cell_type": "code",
   "execution_count": null,
   "id": "63fb6914",
   "metadata": {},
   "outputs": [],
   "source": [
    "from sklearn.svm import SVR\n",
    "svr = SVR(kernel='rbf')\n",
    "svr.fit(X_train, y_train)\n",
    "y_pred = svr.predict(X_test)"
   ]
  },
  {
   "cell_type": "markdown",
   "id": "db278378",
   "metadata": {},
   "source": [
    "⚠️ Consideraciones clave\n",
    "- Muy sensible al escalado de los datos. Siempre escalar antes.\n",
    "\n",
    "- Sensibilidad a outliers: puede alterar el margen y los vectores de soporte.\n",
    "\n",
    "- No es recomendable para datasets grandes, ya que el entrenamiento puede ser costoso.\n",
    "\n",
    "- Hiperparámetro C controla el trade-off entre margen amplio y clasificación perfecta."
   ]
  },
  {
   "cell_type": "markdown",
   "id": "ca1a5fe3",
   "metadata": {},
   "source": [
    "✅ Guía paso a paso para un modelo supervisado con KNN\n"
   ]
  },
  {
   "cell_type": "code",
   "execution_count": null,
   "id": "d147669f",
   "metadata": {},
   "outputs": [],
   "source": [
    "# 1. Carga de datos\n",
    "df = pd.read_csv(\"ruta_al_csv\", sep=\";\")\n",
    "df.head()\n",
    "df.info()\n",
    "\n",
    "# 2. Análisis del target\n",
    "bt.pinta_distribucion_categoricas(df, [target], mostrar_valores=True, relativa=True)\n",
    "\n",
    "#🔹 Si está desbalanceado, apúntalo. Esto afectará al rendimiento de modelos \n",
    "# y puede requerir:\n",
    "# Usar métricas robustas (recall, balanced accuracy)\n",
    "# Hacer balanceo (SMOTE, undersampling...) en casos graves\n",
    "\n",
    "# 3. Limpieza de columnas no útiles (irrelevantes o con muchos nulos)\n",
    "df.drop(\"columna_con_nulos\", axis=1, inplace=True)\n",
    "\n",
    "# 4. División Train/Test\n",
    "train_set, test_set = train_test_split(df, test_size=0.2, random_state=42)\n",
    "\n",
    "# 5. Análisis de variables numéricas\n",
    "features_num = [\"var1\", \"var2\"]\n",
    "train_set[features_num].describe()\n",
    "train_set[features_num].hist()\n",
    "\n",
    "#🔸 Revisa:\n",
    "# Rango entre variables → escalado necesario para KNN\n",
    "# Distribución sesgada → aplica log si hay mucha asimetría\n",
    "\n",
    "# 6. Análisis de variables categóricas\n",
    "features_cat = [\"col_categorica\"]\n",
    "bt.pinta_distribucion_categoricas(train_set, features_cat, mostrar_valores=True, relativa=True)\n",
    "\n",
    "#✔️ Si es binaria, puedes codificarla como 0 y 1\n",
    "#✔️ Si tiene más de dos categorías, necesitarás one-hot encoding (para otros modelos)\n",
    "\n",
    "#7. Preprocesamiento de features\n",
    "\n",
    "# Categórica → binaria\n",
    "train_set[\"col\"] = train_set[\"col\"].apply(lambda x: 1 if x == \"positive\" else 0)\n",
    "test_set[\"col\"] = test_set[\"col\"].apply(lambda x: 1 if x == \"positive\" else 0)\n",
    "\n",
    "# Numéricas → escalado\n",
    "scaler = MinMaxScaler()\n",
    "train_set[features_num] = scaler.fit_transform(train_set[features_num])\n",
    "test_set[features_num] = scaler.transform(test_set[features_num])\n",
    "\n",
    "# 8. Separar X e y y entrenar KNN\n",
    "X_train = train_set[features_cat + features_num]\n",
    "y_train = train_set[target]\n",
    "X_test = test_set[features_cat + features_num]\n",
    "y_test = test_set[target]\n",
    "\n",
    "knn = KNeighborsClassifier(n_neighbors=5)\n",
    "knn.fit(X_train, y_train)\n",
    "\n",
    "# 9. Evaluación inicial\n",
    "print(classification_report(y_train, knn.predict(X_train)))\n",
    "print(classification_report(y_test, knn.predict(X_test)))\n",
    "\n",
    "# 10. Optimizar K manualmente\n",
    "metricas = []\n",
    "for k in range(1, 21):\n",
    "    model = KNeighborsClassifier(n_neighbors=k)\n",
    "    score = cross_val_score(model, X_train, y_train, cv=5, scoring=\"balanced_accuracy\").mean()\n",
    "    metricas.append(score)\n",
    "\n",
    "best_k = np.argmax(metricas) + 1\n",
    "\n",
    "#✔️ Usa balanced_accuracy si el dataset está desbalanceado\n",
    "#✔️ Entrena y evalúa el modelo final con el mejor k\n",
    "\n",
    "# 11. Búsqueda de hiperparámetros con GridSearch\n",
    "param_grid = {\n",
    "    \"n_neighbors\": range(1, 20),\n",
    "    \"weights\": [\"uniform\", \"distance\"]\n",
    "}\n",
    "\n",
    "grid = GridSearchCV(knn, param_grid, cv=5, scoring=\"balanced_accuracy\")\n",
    "grid.fit(X_train, y_train)\n",
    "\n",
    "print(grid.best_params_)\n",
    "print(grid.best_score_)\n",
    "print(classification_report(y_test, grid.best_estimator_.predict(X_test)))\n",
    "\n",
    "# ✔️ weights=\"distance\" puede mejorar si hay ruido o vecinos poco representativos\n",
    "\n",
    "\n"
   ]
  },
  {
   "cell_type": "markdown",
   "id": "b1b7e18b",
   "metadata": {},
   "source": [
    "## ⚖️ Equilibrado de Clases (Class Imbalance)\n",
    "📌 ¿Qué es un dataset desbalanceado?\n",
    "Un dataset está desbalanceado cuando las clases del target no están representadas de forma proporcional, es decir, una clase aparece con mucha más frecuencia que otra.\n",
    "Ejemplo típico: 90% clase 'no', 10% clase 'yes'.\n",
    "\n",
    "❗¿Por qué es un problema?\n",
    "Los modelos pueden aprender a predecir siempre la clase mayoritaria y tener una alta accuracy pero bajo recall o F1-score para la clase minoritaria.\n",
    "\n",
    "💡 Consejo inicial:\n",
    "Antes de aplicar técnicas, entiende bien el objetivo de negocio:\n",
    "\n",
    "- ¿Interesa maximizar el recall de la clase minoritaria?\n",
    "\n",
    "- ¿O reducir los falsos positivos?\n",
    "\n",
    "- ¿Qué cuesta y qué se gana con un TP, FP, FN, TN?\n",
    "\n",
    "### 🧪 Estrategias para abordar el desequilibrio\n",
    "\n",
    "✅ 0. No hacer nada (modelo base)\n",
    "Evaluar sin modificar el dataset:"
   ]
  },
  {
   "cell_type": "code",
   "execution_count": null,
   "id": "bab676ea",
   "metadata": {},
   "outputs": [],
   "source": [
    "model = LogisticRegression()\n",
    "model.fit(X_train, y_train)\n",
    "y_pred = model.predict(X_test)\n",
    "print(classification_report(y_test, y_pred))"
   ]
  },
  {
   "cell_type": "markdown",
   "id": "e8ad4acb",
   "metadata": {},
   "source": [
    "Métricas clave:\n",
    "\n",
    "- Precisión / recall de la clase minoritaria\n",
    "\n",
    "- Matriz de confusión: ConfusionMatrixDisplay.from_predictions(...)\n",
    "\n",
    "🔁 1. Over-sampling (sobremuestreo)\n",
    "\n",
    "🧬 SMOTE (Synthetic Minority Over-sampling Technique)\n",
    "\n",
    "Crea nuevas observaciones sintéticas de la clase minoritaria usando KNN."
   ]
  },
  {
   "cell_type": "code",
   "execution_count": null,
   "id": "8b122ee3",
   "metadata": {},
   "outputs": [],
   "source": [
    "from imblearn.over_sampling import SMOTE\n",
    "\n",
    "smote = SMOTE(random_state=42)\n",
    "X_train_res, y_train_res = smote.fit_resample(X_train, y_train)"
   ]
  },
  {
   "cell_type": "markdown",
   "id": "54c985a5",
   "metadata": {},
   "source": [
    "Pros: mejora el recall sin perder datos\n",
    "Contras: riesgo de overfitting si se abusa\n",
    "\n",
    "📦 Otras alternativas de oversampling:\n",
    "\n",
    "- RandomOverSampler() (repite observaciones)\n",
    "\n",
    "- ADASYN() (parecido a SMOTE, pero adaptativo)\n",
    "\n",
    "🔻 2. Under-sampling (bajomuestreo)\n",
    "Reduce el número de observaciones de la clase mayoritaria."
   ]
  },
  {
   "cell_type": "code",
   "execution_count": null,
   "id": "c437a496",
   "metadata": {},
   "outputs": [],
   "source": [
    "from sklearn.utils import resample\n",
    "\n",
    "may = X_train[y_train == \"no\"]\n",
    "min_ = X_train[y_train == \"yes\"]\n",
    "\n",
    "may_down = resample(may, replace=False, n_samples=len(min_), random_state=42)\n",
    "\n",
    "X_train_bal = pd.concat([may_down, min_])\n",
    "y_train_bal = pd.concat([y_train.loc[may_down.index], y_train.loc[min_.index]])"
   ]
  },
  {
   "cell_type": "markdown",
   "id": "143cccd5",
   "metadata": {},
   "source": [
    "Pros: rápido y simple\n",
    "Contras: pierde datos valiosos → riesgo de subentrenamiento\n",
    "\n",
    "⚖️ 3. Ajuste de pesos (class_weight)\n",
    "\n",
    "Aplica un peso mayor a la clase minoritaria en la función de pérdida del modelo. Recomendado si no quieres tocar el dataset."
   ]
  },
  {
   "cell_type": "code",
   "execution_count": null,
   "id": "80704cac",
   "metadata": {},
   "outputs": [],
   "source": [
    "model = LogisticRegression(class_weight='balanced')"
   ]
  },
  {
   "cell_type": "markdown",
   "id": "45080eff",
   "metadata": {},
   "source": [
    "✔️ Muchos modelos de sklearn lo soportan (DecisionTree, SVM, RandomForest, etc.)\n",
    "\n",
    "📊 Comparativa de resultados\n",
    "| Técnica            | Precisión (YES) | Recall (YES) | Comentario                                         |\n",
    "| ------------------ | --------------- | ------------ | -------------------------------------------------- |\n",
    "| **Sin equilibrar** | 0.64            | 0.36         | Alta precisión clase NO, muy bajo recall clase YES |\n",
    "| **SMOTE**          | 0.51            | 0.61         | Mejora de recall, algo de precisión                |\n",
    "| **Under-sampling** | 0.39            | 0.85         | Mucho recall, baja precisión (dispara a todo)      |\n",
    "| **class\\_weight**  | 0.39            | 0.85         | Similar a under-sampling, pero sin eliminar datos  |\n",
    "\n",
    "### 🧠 Consejos finales para el equilibrio de clases\n",
    "\n",
    "⚠️ No hay una solución universal → prueba varias y evalúa\n",
    "\n",
    "📉 Siempre evalúa con métricas por clase: precisión, recall, F1\n",
    "\n",
    "📊 Usa validación cruzada para testear robustez\n",
    "\n",
    "🎯 Ajusta el umbral de decisión (predict_proba) si no quieres reequilibrar el dataset\n",
    "\n",
    "-------------"
   ]
  },
  {
   "cell_type": "markdown",
   "id": "7cf2fff5",
   "metadata": {},
   "source": [
    "# 🧠 Análisis de Errores\n",
    "\n",
    "Analizar los errores es esencial para mejorar un modelo y adaptarlo a las prioridades reales del negocio. No basta con obtener un buen accuracy global: es necesario entender qué está fallando, cómo y por qué.\n",
    "\n",
    "## ⚠️ Importancia del Análisis de Errores\n",
    "- Identifica clases con bajo rendimiento (recall, precisión...).\n",
    "\n",
    "- Detecta patrones sistemáticos de error.\n",
    "\n",
    "- Prioriza mejoras según el impacto del fallo (no todas las clases pesan igual).\n",
    "\n",
    "- Te guía hacia una mejor interpretación del modelo y ajustes más efectivos.\n",
    "\n",
    "## 🔍 Análisis de errores en Clasificación\n",
    "✅ Proceso paso a paso\n",
    "\n"
   ]
  },
  {
   "cell_type": "code",
   "execution_count": null,
   "id": "99e0aa09",
   "metadata": {},
   "outputs": [],
   "source": [
    "# 1. Entrena un modelo de clasificación\n",
    "\n",
    "# 2. Evalúa con métricas por clase\n",
    "\n",
    "from sklearn.metrics import classification_report\n",
    "print(classification_report(y_true, y_pred))\n",
    "\n",
    "# 3. Inspecciona la matriz de confusión normalizada (recall por fila)\n",
    "\n",
    "from sklearn.metrics import ConfusionMatrixDisplay\n",
    "ConfusionMatrixDisplay.from_predictions(y_true, y_pred, normalize='true')"
   ]
  },
  {
   "cell_type": "markdown",
   "id": "a4d52362",
   "metadata": {},
   "source": [
    "## 🧭 Cómo interpretar la matriz\n",
    "- Lectura por filas (con normalize=\"true\"):\n",
    "Cada fila representa una clase real → el valor muestra a qué clase fue clasificada.\n",
    "\n",
    "- Las diagonales altas indican buen recall.\n",
    "\n",
    "- Las desviaciones fuera de la diagonal indican confusiones sistemáticas.\n",
    "\n",
    "💡 Ejemplo de análisis cualitativo\n",
    "\n",
    "- Si clase 2 se clasifica mal y casi siempre como clase 4 o 5 → hay un sesgo ascendente.\n",
    "\n",
    "- Si una clase con poco soporte tiene bajo recall, puedes:\n",
    "\n",
    "    -Reentrenar un modelo específico para esa clase.\n",
    "\n",
    "    - Balancear las clases (oversampling).\n",
    "\n",
    "    - Aplicar un modelo de segundo nivel (\"modelo cascada\").\n",
    "\n",
    "\n",
    "## 📈 Sugerencias para mejorar tras el análisis\n",
    "1. Ingeniería de variables\n",
    "Nuevas variables o transformar las existentes (escalado, codificación ordinal...).\n",
    "\n",
    "2. Modelos especializados\n",
    "Para clases con errores sistemáticos o de alto impacto → crear modelos dedicados.\n",
    "\n",
    "3. Reentrenar con class_weight\n",
    "Penalizar más los errores en las clases minoritarias.\n",
    "\n",
    "4. Evaluar impacto real\n",
    "Discutir con negocio: ¿cuál es el coste real de predecir mal cada clase?\n",
    "\n",
    "## 📉 Análisis de Errores en Regresión\n",
    "Cuando trabajamos con modelos de regresión, no podemos usar una matriz de confusión como en clasificación, pero sí podemos analizar los errores individuales (residuos), su distribución y su relación con las predicciones. Esto nos ayuda a identificar sesgos o zonas problemáticas.\n",
    "\n",
    "⚙️ Preparación del problema de regresión\n",
    "\n",
    "Se cambia el target a una variable numérica continua. En el ejemplo con el dataset diamonds:"
   ]
  },
  {
   "cell_type": "code",
   "execution_count": null,
   "id": "5990ac3c",
   "metadata": {},
   "outputs": [],
   "source": [
    "target_regresion = \"price\"\n",
    "features_cat_reg = [\"color\", \"clarity\", \"cut\"]\n",
    "features_num_reg = [...]  # numéricas sin incluir \"price\""
   ]
  },
  {
   "cell_type": "markdown",
   "id": "66ba28a9",
   "metadata": {},
   "source": [
    "Se aplica StandardScaler a las numéricas y luego se invierte el escalado del target para que vuelva a su escala real:"
   ]
  },
  {
   "cell_type": "code",
   "execution_count": null,
   "id": "3fddffe0",
   "metadata": {},
   "outputs": [],
   "source": [
    "train_set[\"price\"] = scaler.inverse_transform(train_set[features_num])[..., price_idx]"
   ]
  },
  {
   "cell_type": "markdown",
   "id": "a43aff5d",
   "metadata": {},
   "source": [
    "### 🧪 Métricas de evaluación en regresión\n",
    "| Métrica                                  | Interpretación                                                        |\n",
    "| ---------------------------------------- | --------------------------------------------------------------------- |\n",
    "| `MAE` (Error absoluto medio)             | Cuánto se equivoca el modelo de media (sin penalizar grandes errores) |\n",
    "| `MAPE` (Error porcentual medio)          | Cuánto se equivoca el modelo en proporción al valor real              |\n",
    "| `RMSE` (Raíz del error cuadrático medio) | Penaliza más los errores grandes                                      |\n"
   ]
  },
  {
   "cell_type": "markdown",
   "id": "e9765d4b",
   "metadata": {},
   "source": [
    "### 📊 Visualizaciones esenciales\n",
    "1. Gráfico de reales vs predichos\n",
    "\n",
    "Permite detectar si el modelo funciona peor en ciertos rangos del target (por ejemplo, en precios altos):"
   ]
  },
  {
   "cell_type": "code",
   "execution_count": null,
   "id": "0506d583",
   "metadata": {},
   "outputs": [],
   "source": [
    "plot_predictions_vs_actual(y_real, y_pred)"
   ]
  },
  {
   "cell_type": "markdown",
   "id": "e30cc936",
   "metadata": {},
   "source": [
    "Idealmente, los puntos deben estar alineados con la línea roja y = x.\n",
    "\n",
    "2. Distribución de residuos\n",
    "\n",
    "Ayuda a ver si los errores tienen una distribución simétrica o sesgada:"
   ]
  },
  {
   "cell_type": "code",
   "execution_count": null,
   "id": "4c96b387",
   "metadata": {},
   "outputs": [],
   "source": [
    "residuos = y_test - y_pred\n",
    "sns.histplot(residuos, kde=True)"
   ]
  },
  {
   "cell_type": "markdown",
   "id": "ff48c9fc",
   "metadata": {},
   "source": [
    "Una distribución normal de residuos suele indicar un modelo razonablemente ajustado.\n",
    "\n",
    "3. Residuos vs Predicciones\n",
    "\n",
    "Permite identificar zonas del rango de predicción donde el modelo sesga (por ejemplo, subestimando sistemáticamente):"
   ]
  },
  {
   "cell_type": "code",
   "execution_count": null,
   "id": "e529e60c",
   "metadata": {},
   "outputs": [],
   "source": [
    "plt.scatter(y_pred, residuos)"
   ]
  },
  {
   "cell_type": "markdown",
   "id": "c801a23f",
   "metadata": {},
   "source": [
    "Un buen modelo debería mostrar los residuos dispersos alrededor del 0 sin patrones claros.\n",
    "\n",
    "### 🧠 ¿Qué hacer con la información del análisis?\n",
    "\n",
    "En el ejemplo de diamonds, se observa que:\n",
    "\n",
    "El modelo funciona mejor en precios bajos.\n",
    "\n",
    "Para precios > 7500, hay mayor error y dispersión.\n",
    "\n",
    "El modelo parece sesgar más en la \"cola larga\" de la distribución.\n",
    "\n",
    "Esto puede indicar que:\n",
    "\n",
    "El modelo necesita mayor capacidad para manejar precios altos.\n",
    "\n",
    "Puede ser útil hacer un modelo específico para ese segmento.\n",
    "\n",
    "Otra opción es binnear el target y convertirlo en clasificación.\n",
    "\n",
    "### 💡 Sugerencias de mejora\n",
    "\n",
    "1. Ingeniería de características\n",
    "\n",
    "Transformar o crear nuevas features que ayuden al modelo.\n",
    "\n",
    "2. Modelos alternativos\n",
    "\n",
    "RandomForest, GradientBoosting, XGBoost...\n",
    "\n",
    "3. Ajuste de hiperparámetros\n",
    "\n",
    "Profundidad, número de árboles, learning rate...\n",
    "\n",
    "4. Tratamiento de outliers\n",
    "\n",
    "Revisar los valores extremos que distorsionan la predicción.\n",
    "\n",
    "5. Segmentación del modelo\n",
    "\n",
    "Crear un modelo exclusivo para valores altos o usar ensemble de modelos."
   ]
  }
 ],
 "metadata": {
  "kernelspec": {
   "display_name": "Python 3",
   "language": "python",
   "name": "python3"
  },
  "language_info": {
   "codemirror_mode": {
    "name": "ipython",
    "version": 3
   },
   "file_extension": ".py",
   "mimetype": "text/x-python",
   "name": "python",
   "nbconvert_exporter": "python",
   "pygments_lexer": "ipython3",
   "version": "3.10.11"
  }
 },
 "nbformat": 4,
 "nbformat_minor": 5
}
