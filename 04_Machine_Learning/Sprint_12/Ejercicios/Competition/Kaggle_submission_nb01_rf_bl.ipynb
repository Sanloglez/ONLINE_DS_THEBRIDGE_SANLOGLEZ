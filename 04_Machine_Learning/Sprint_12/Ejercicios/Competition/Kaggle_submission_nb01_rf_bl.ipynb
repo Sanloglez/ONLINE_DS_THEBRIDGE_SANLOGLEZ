{
 "cells": [
  {
   "cell_type": "markdown",
   "metadata": {},
   "source": [
    "## Kaggle – DataTops®\n",
    "Tu profe ha decidido cambiar de aires y, por eso, ha comprado una tienda de portátiles. Sin embargo, su única especialidad es Data Science, por lo que ha decidido crear un modelo de ML para establecer los mejores precios.\n",
    "\n",
    "¿Podrías ayudar a tu profe a mejorar ese modelo?"
   ]
  },
  {
   "cell_type": "markdown",
   "metadata": {},
   "source": [
    "## Métrica: \n",
    "El error cuadrático medio (RMSE, por sus siglas en inglés) es una medida de la desviación estándar de los residuos (errores de predicción). Los residuos representan la diferencia entre los valores observados y los valores predichos por el modelo. El RMSE indica qué tan dispersos están estos errores: cuanto menor es el RMSE, más cercanas están las predicciones a los valores reales. En otras palabras, el RMSE mide qué tan bien se ajusta la línea de regresión a los datos.\n",
    "\n",
    "\n",
    "$$ RMSE = \\sqrt{\\frac{1}{n}\\Sigma_{i=1}^{n}{\\Big(\\frac{d_i -f_i}{\\sigma_i}\\Big)^2}}$$\n"
   ]
  },
  {
   "cell_type": "markdown",
   "metadata": {},
   "source": [
    "## 1. Librerías"
   ]
  },
  {
   "cell_type": "code",
   "execution_count": 1,
   "metadata": {},
   "outputs": [],
   "source": [
    "import numpy as np\n",
    "import pandas as pd\n",
    "from PIL import Image\n",
    "from sklearn.model_selection import train_test_split\n",
    "from sklearn.metrics import root_mean_squared_error\n",
    "from sklearn.ensemble import RandomForestRegressor\n",
    "from sklearn.svm import SVR\n",
    "import urllib.request"
   ]
  },
  {
   "cell_type": "markdown",
   "metadata": {},
   "source": [
    "## 2. Datos"
   ]
  },
  {
   "cell_type": "code",
   "execution_count": 6,
   "metadata": {},
   "outputs": [],
   "source": [
    "# Para que funcione necesitas bajarte los archivos de datos de Kaggle \n",
    "df = pd.read_csv(\"./data/train.csv\", index_col= \"laptop_ID\")"
   ]
  },
  {
   "cell_type": "markdown",
   "metadata": {},
   "source": [
    "### 2.1 Exploración de los datos"
   ]
  },
  {
   "cell_type": "code",
   "execution_count": 7,
   "metadata": {},
   "outputs": [
    {
     "name": "stdout",
     "output_type": "stream",
     "text": [
      "<class 'pandas.core.frame.DataFrame'>\n",
      "Index: 912 entries, 755 to 229\n",
      "Data columns (total 12 columns):\n",
      " #   Column            Non-Null Count  Dtype  \n",
      "---  ------            --------------  -----  \n",
      " 0   Company           912 non-null    object \n",
      " 1   Product           912 non-null    object \n",
      " 2   TypeName          912 non-null    object \n",
      " 3   Inches            912 non-null    float64\n",
      " 4   ScreenResolution  912 non-null    object \n",
      " 5   Cpu               912 non-null    object \n",
      " 6   Ram               912 non-null    object \n",
      " 7   Memory            912 non-null    object \n",
      " 8   Gpu               912 non-null    object \n",
      " 9   OpSys             912 non-null    object \n",
      " 10  Weight            912 non-null    object \n",
      " 11  Price_in_euros    912 non-null    float64\n",
      "dtypes: float64(2), object(10)\n",
      "memory usage: 92.6+ KB\n"
     ]
    }
   ],
   "source": [
    "df.info()"
   ]
  },
  {
   "cell_type": "code",
   "execution_count": 8,
   "metadata": {},
   "outputs": [
    {
     "data": {
      "text/html": [
       "<div>\n",
       "<style scoped>\n",
       "    .dataframe tbody tr th:only-of-type {\n",
       "        vertical-align: middle;\n",
       "    }\n",
       "\n",
       "    .dataframe tbody tr th {\n",
       "        vertical-align: top;\n",
       "    }\n",
       "\n",
       "    .dataframe thead th {\n",
       "        text-align: right;\n",
       "    }\n",
       "</style>\n",
       "<table border=\"1\" class=\"dataframe\">\n",
       "  <thead>\n",
       "    <tr style=\"text-align: right;\">\n",
       "      <th></th>\n",
       "      <th>Company</th>\n",
       "      <th>Product</th>\n",
       "      <th>TypeName</th>\n",
       "      <th>Inches</th>\n",
       "      <th>ScreenResolution</th>\n",
       "      <th>Cpu</th>\n",
       "      <th>Ram</th>\n",
       "      <th>Memory</th>\n",
       "      <th>Gpu</th>\n",
       "      <th>OpSys</th>\n",
       "      <th>Weight</th>\n",
       "      <th>Price_in_euros</th>\n",
       "    </tr>\n",
       "    <tr>\n",
       "      <th>laptop_ID</th>\n",
       "      <th></th>\n",
       "      <th></th>\n",
       "      <th></th>\n",
       "      <th></th>\n",
       "      <th></th>\n",
       "      <th></th>\n",
       "      <th></th>\n",
       "      <th></th>\n",
       "      <th></th>\n",
       "      <th></th>\n",
       "      <th></th>\n",
       "      <th></th>\n",
       "    </tr>\n",
       "  </thead>\n",
       "  <tbody>\n",
       "    <tr>\n",
       "      <th>755</th>\n",
       "      <td>HP</td>\n",
       "      <td>250 G6</td>\n",
       "      <td>Notebook</td>\n",
       "      <td>15.6</td>\n",
       "      <td>Full HD 1920x1080</td>\n",
       "      <td>Intel Core i3 6006U 2GHz</td>\n",
       "      <td>8GB</td>\n",
       "      <td>256GB SSD</td>\n",
       "      <td>Intel HD Graphics 520</td>\n",
       "      <td>Windows 10</td>\n",
       "      <td>1.86kg</td>\n",
       "      <td>539.00</td>\n",
       "    </tr>\n",
       "    <tr>\n",
       "      <th>618</th>\n",
       "      <td>Dell</td>\n",
       "      <td>Inspiron 7559</td>\n",
       "      <td>Gaming</td>\n",
       "      <td>15.6</td>\n",
       "      <td>Full HD 1920x1080</td>\n",
       "      <td>Intel Core i7 6700HQ 2.6GHz</td>\n",
       "      <td>16GB</td>\n",
       "      <td>1TB HDD</td>\n",
       "      <td>Nvidia GeForce GTX 960&lt;U+039C&gt;</td>\n",
       "      <td>Windows 10</td>\n",
       "      <td>2.59kg</td>\n",
       "      <td>879.01</td>\n",
       "    </tr>\n",
       "    <tr>\n",
       "      <th>909</th>\n",
       "      <td>HP</td>\n",
       "      <td>ProBook 450</td>\n",
       "      <td>Notebook</td>\n",
       "      <td>15.6</td>\n",
       "      <td>Full HD 1920x1080</td>\n",
       "      <td>Intel Core i7 7500U 2.7GHz</td>\n",
       "      <td>8GB</td>\n",
       "      <td>1TB HDD</td>\n",
       "      <td>Nvidia GeForce 930MX</td>\n",
       "      <td>Windows 10</td>\n",
       "      <td>2.04kg</td>\n",
       "      <td>900.00</td>\n",
       "    </tr>\n",
       "    <tr>\n",
       "      <th>2</th>\n",
       "      <td>Apple</td>\n",
       "      <td>Macbook Air</td>\n",
       "      <td>Ultrabook</td>\n",
       "      <td>13.3</td>\n",
       "      <td>1440x900</td>\n",
       "      <td>Intel Core i5 1.8GHz</td>\n",
       "      <td>8GB</td>\n",
       "      <td>128GB Flash Storage</td>\n",
       "      <td>Intel HD Graphics 6000</td>\n",
       "      <td>macOS</td>\n",
       "      <td>1.34kg</td>\n",
       "      <td>898.94</td>\n",
       "    </tr>\n",
       "    <tr>\n",
       "      <th>286</th>\n",
       "      <td>Dell</td>\n",
       "      <td>Inspiron 3567</td>\n",
       "      <td>Notebook</td>\n",
       "      <td>15.6</td>\n",
       "      <td>Full HD 1920x1080</td>\n",
       "      <td>Intel Core i3 6006U 2.0GHz</td>\n",
       "      <td>4GB</td>\n",
       "      <td>1TB HDD</td>\n",
       "      <td>AMD Radeon R5 M430</td>\n",
       "      <td>Linux</td>\n",
       "      <td>2.25kg</td>\n",
       "      <td>428.00</td>\n",
       "    </tr>\n",
       "  </tbody>\n",
       "</table>\n",
       "</div>"
      ],
      "text/plain": [
       "          Company        Product   TypeName  Inches   ScreenResolution  \\\n",
       "laptop_ID                                                                \n",
       "755            HP         250 G6   Notebook    15.6  Full HD 1920x1080   \n",
       "618          Dell  Inspiron 7559     Gaming    15.6  Full HD 1920x1080   \n",
       "909            HP    ProBook 450   Notebook    15.6  Full HD 1920x1080   \n",
       "2           Apple    Macbook Air  Ultrabook    13.3           1440x900   \n",
       "286          Dell  Inspiron 3567   Notebook    15.6  Full HD 1920x1080   \n",
       "\n",
       "                                   Cpu   Ram               Memory  \\\n",
       "laptop_ID                                                           \n",
       "755           Intel Core i3 6006U 2GHz   8GB            256GB SSD   \n",
       "618        Intel Core i7 6700HQ 2.6GHz  16GB              1TB HDD   \n",
       "909         Intel Core i7 7500U 2.7GHz   8GB              1TB HDD   \n",
       "2                 Intel Core i5 1.8GHz   8GB  128GB Flash Storage   \n",
       "286         Intel Core i3 6006U 2.0GHz   4GB              1TB HDD   \n",
       "\n",
       "                                      Gpu       OpSys  Weight  Price_in_euros  \n",
       "laptop_ID                                                                      \n",
       "755                 Intel HD Graphics 520  Windows 10  1.86kg          539.00  \n",
       "618        Nvidia GeForce GTX 960<U+039C>  Windows 10  2.59kg          879.01  \n",
       "909                  Nvidia GeForce 930MX  Windows 10  2.04kg          900.00  \n",
       "2                  Intel HD Graphics 6000       macOS  1.34kg          898.94  \n",
       "286                    AMD Radeon R5 M430       Linux  2.25kg          428.00  "
      ]
     },
     "execution_count": 8,
     "metadata": {},
     "output_type": "execute_result"
    }
   ],
   "source": [
    "df.head()"
   ]
  },
  {
   "cell_type": "code",
   "execution_count": 9,
   "metadata": {},
   "outputs": [
    {
     "data": {
      "text/html": [
       "<div>\n",
       "<style scoped>\n",
       "    .dataframe tbody tr th:only-of-type {\n",
       "        vertical-align: middle;\n",
       "    }\n",
       "\n",
       "    .dataframe tbody tr th {\n",
       "        vertical-align: top;\n",
       "    }\n",
       "\n",
       "    .dataframe thead th {\n",
       "        text-align: right;\n",
       "    }\n",
       "</style>\n",
       "<table border=\"1\" class=\"dataframe\">\n",
       "  <thead>\n",
       "    <tr style=\"text-align: right;\">\n",
       "      <th></th>\n",
       "      <th>Company</th>\n",
       "      <th>Product</th>\n",
       "      <th>TypeName</th>\n",
       "      <th>Inches</th>\n",
       "      <th>ScreenResolution</th>\n",
       "      <th>Cpu</th>\n",
       "      <th>Ram</th>\n",
       "      <th>Memory</th>\n",
       "      <th>Gpu</th>\n",
       "      <th>OpSys</th>\n",
       "      <th>Weight</th>\n",
       "      <th>Price_in_euros</th>\n",
       "    </tr>\n",
       "    <tr>\n",
       "      <th>laptop_ID</th>\n",
       "      <th></th>\n",
       "      <th></th>\n",
       "      <th></th>\n",
       "      <th></th>\n",
       "      <th></th>\n",
       "      <th></th>\n",
       "      <th></th>\n",
       "      <th></th>\n",
       "      <th></th>\n",
       "      <th></th>\n",
       "      <th></th>\n",
       "      <th></th>\n",
       "    </tr>\n",
       "  </thead>\n",
       "  <tbody>\n",
       "    <tr>\n",
       "      <th>28</th>\n",
       "      <td>Dell</td>\n",
       "      <td>Inspiron 5570</td>\n",
       "      <td>Notebook</td>\n",
       "      <td>15.6</td>\n",
       "      <td>Full HD 1920x1080</td>\n",
       "      <td>Intel Core i5 8250U 1.6GHz</td>\n",
       "      <td>8GB</td>\n",
       "      <td>256GB SSD</td>\n",
       "      <td>AMD Radeon 530</td>\n",
       "      <td>Windows 10</td>\n",
       "      <td>2.2kg</td>\n",
       "      <td>800.00</td>\n",
       "    </tr>\n",
       "    <tr>\n",
       "      <th>1160</th>\n",
       "      <td>HP</td>\n",
       "      <td>Spectre Pro</td>\n",
       "      <td>2 in 1 Convertible</td>\n",
       "      <td>13.3</td>\n",
       "      <td>Full HD / Touchscreen 1920x1080</td>\n",
       "      <td>Intel Core i5 6300U 2.4GHz</td>\n",
       "      <td>8GB</td>\n",
       "      <td>256GB SSD</td>\n",
       "      <td>Intel HD Graphics 520</td>\n",
       "      <td>Windows 10</td>\n",
       "      <td>1.48kg</td>\n",
       "      <td>1629.00</td>\n",
       "    </tr>\n",
       "    <tr>\n",
       "      <th>78</th>\n",
       "      <td>Lenovo</td>\n",
       "      <td>IdeaPad 320-15IKBN</td>\n",
       "      <td>Notebook</td>\n",
       "      <td>15.6</td>\n",
       "      <td>Full HD 1920x1080</td>\n",
       "      <td>Intel Core i5 7200U 2.5GHz</td>\n",
       "      <td>8GB</td>\n",
       "      <td>2TB HDD</td>\n",
       "      <td>Intel HD Graphics 620</td>\n",
       "      <td>No OS</td>\n",
       "      <td>2.2kg</td>\n",
       "      <td>519.00</td>\n",
       "    </tr>\n",
       "    <tr>\n",
       "      <th>23</th>\n",
       "      <td>HP</td>\n",
       "      <td>255 G6</td>\n",
       "      <td>Notebook</td>\n",
       "      <td>15.6</td>\n",
       "      <td>1366x768</td>\n",
       "      <td>AMD E-Series E2-9000e 1.5GHz</td>\n",
       "      <td>4GB</td>\n",
       "      <td>500GB HDD</td>\n",
       "      <td>AMD Radeon R2</td>\n",
       "      <td>No OS</td>\n",
       "      <td>1.86kg</td>\n",
       "      <td>258.00</td>\n",
       "    </tr>\n",
       "    <tr>\n",
       "      <th>229</th>\n",
       "      <td>Dell</td>\n",
       "      <td>Alienware 17</td>\n",
       "      <td>Gaming</td>\n",
       "      <td>17.3</td>\n",
       "      <td>IPS Panel Full HD 1920x1080</td>\n",
       "      <td>Intel Core i7 7700HQ 2.8GHz</td>\n",
       "      <td>16GB</td>\n",
       "      <td>256GB SSD +  1TB HDD</td>\n",
       "      <td>Nvidia GeForce GTX 1060</td>\n",
       "      <td>Windows 10</td>\n",
       "      <td>4.42kg</td>\n",
       "      <td>2456.34</td>\n",
       "    </tr>\n",
       "  </tbody>\n",
       "</table>\n",
       "</div>"
      ],
      "text/plain": [
       "          Company             Product            TypeName  Inches  \\\n",
       "laptop_ID                                                           \n",
       "28           Dell       Inspiron 5570            Notebook    15.6   \n",
       "1160           HP         Spectre Pro  2 in 1 Convertible    13.3   \n",
       "78         Lenovo  IdeaPad 320-15IKBN            Notebook    15.6   \n",
       "23             HP              255 G6            Notebook    15.6   \n",
       "229          Dell        Alienware 17              Gaming    17.3   \n",
       "\n",
       "                          ScreenResolution                           Cpu  \\\n",
       "laptop_ID                                                                  \n",
       "28                       Full HD 1920x1080    Intel Core i5 8250U 1.6GHz   \n",
       "1160       Full HD / Touchscreen 1920x1080    Intel Core i5 6300U 2.4GHz   \n",
       "78                       Full HD 1920x1080    Intel Core i5 7200U 2.5GHz   \n",
       "23                                1366x768  AMD E-Series E2-9000e 1.5GHz   \n",
       "229            IPS Panel Full HD 1920x1080   Intel Core i7 7700HQ 2.8GHz   \n",
       "\n",
       "            Ram                Memory                      Gpu       OpSys  \\\n",
       "laptop_ID                                                                    \n",
       "28          8GB             256GB SSD           AMD Radeon 530  Windows 10   \n",
       "1160        8GB             256GB SSD    Intel HD Graphics 520  Windows 10   \n",
       "78          8GB               2TB HDD    Intel HD Graphics 620       No OS   \n",
       "23          4GB             500GB HDD            AMD Radeon R2       No OS   \n",
       "229        16GB  256GB SSD +  1TB HDD  Nvidia GeForce GTX 1060  Windows 10   \n",
       "\n",
       "           Weight  Price_in_euros  \n",
       "laptop_ID                          \n",
       "28          2.2kg          800.00  \n",
       "1160       1.48kg         1629.00  \n",
       "78          2.2kg          519.00  \n",
       "23         1.86kg          258.00  \n",
       "229        4.42kg         2456.34  "
      ]
     },
     "execution_count": 9,
     "metadata": {},
     "output_type": "execute_result"
    }
   ],
   "source": [
    "df.tail()"
   ]
  },
  {
   "cell_type": "code",
   "execution_count": 10,
   "metadata": {},
   "outputs": [
    {
     "data": {
      "text/html": [
       "<div>\n",
       "<style scoped>\n",
       "    .dataframe tbody tr th:only-of-type {\n",
       "        vertical-align: middle;\n",
       "    }\n",
       "\n",
       "    .dataframe tbody tr th {\n",
       "        vertical-align: top;\n",
       "    }\n",
       "\n",
       "    .dataframe thead th {\n",
       "        text-align: right;\n",
       "    }\n",
       "</style>\n",
       "<table border=\"1\" class=\"dataframe\">\n",
       "  <thead>\n",
       "    <tr style=\"text-align: right;\">\n",
       "      <th></th>\n",
       "      <th>Inches</th>\n",
       "      <th>Price_in_euros</th>\n",
       "    </tr>\n",
       "  </thead>\n",
       "  <tbody>\n",
       "    <tr>\n",
       "      <th>count</th>\n",
       "      <td>912.000000</td>\n",
       "      <td>912.000000</td>\n",
       "    </tr>\n",
       "    <tr>\n",
       "      <th>mean</th>\n",
       "      <td>14.981579</td>\n",
       "      <td>1111.724090</td>\n",
       "    </tr>\n",
       "    <tr>\n",
       "      <th>std</th>\n",
       "      <td>1.436719</td>\n",
       "      <td>687.959172</td>\n",
       "    </tr>\n",
       "    <tr>\n",
       "      <th>min</th>\n",
       "      <td>10.100000</td>\n",
       "      <td>174.000000</td>\n",
       "    </tr>\n",
       "    <tr>\n",
       "      <th>25%</th>\n",
       "      <td>14.000000</td>\n",
       "      <td>589.000000</td>\n",
       "    </tr>\n",
       "    <tr>\n",
       "      <th>50%</th>\n",
       "      <td>15.600000</td>\n",
       "      <td>978.000000</td>\n",
       "    </tr>\n",
       "    <tr>\n",
       "      <th>75%</th>\n",
       "      <td>15.600000</td>\n",
       "      <td>1483.942500</td>\n",
       "    </tr>\n",
       "    <tr>\n",
       "      <th>max</th>\n",
       "      <td>18.400000</td>\n",
       "      <td>6099.000000</td>\n",
       "    </tr>\n",
       "  </tbody>\n",
       "</table>\n",
       "</div>"
      ],
      "text/plain": [
       "           Inches  Price_in_euros\n",
       "count  912.000000      912.000000\n",
       "mean    14.981579     1111.724090\n",
       "std      1.436719      687.959172\n",
       "min     10.100000      174.000000\n",
       "25%     14.000000      589.000000\n",
       "50%     15.600000      978.000000\n",
       "75%     15.600000     1483.942500\n",
       "max     18.400000     6099.000000"
      ]
     },
     "execution_count": 10,
     "metadata": {},
     "output_type": "execute_result"
    }
   ],
   "source": [
    "df.describe()"
   ]
  },
  {
   "cell_type": "markdown",
   "metadata": {},
   "source": [
    "### 2.3 Definir X e y"
   ]
  },
  {
   "cell_type": "code",
   "execution_count": 11,
   "metadata": {},
   "outputs": [
    {
     "data": {
      "text/plain": [
       "(912, 11)"
      ]
     },
     "execution_count": 11,
     "metadata": {},
     "output_type": "execute_result"
    }
   ],
   "source": [
    "X = df.drop(['Price_in_euros'], axis=1)\n",
    "y = df['Price_in_euros'].copy()\n",
    "X.shape"
   ]
  },
  {
   "cell_type": "code",
   "execution_count": 12,
   "metadata": {},
   "outputs": [
    {
     "data": {
      "text/plain": [
       "(912, 11)"
      ]
     },
     "execution_count": 12,
     "metadata": {},
     "output_type": "execute_result"
    }
   ],
   "source": [
    "X.shape"
   ]
  },
  {
   "cell_type": "code",
   "execution_count": 13,
   "metadata": {},
   "outputs": [
    {
     "data": {
      "text/plain": [
       "(912,)"
      ]
     },
     "execution_count": 13,
     "metadata": {},
     "output_type": "execute_result"
    }
   ],
   "source": [
    "y.shape"
   ]
  },
  {
   "cell_type": "code",
   "execution_count": 14,
   "metadata": {},
   "outputs": [
    {
     "data": {
      "text/plain": [
       "laptop_ID\n",
       "755      539.00\n",
       "618      879.01\n",
       "909      900.00\n",
       "2        898.94\n",
       "286      428.00\n",
       "         ...   \n",
       "28       800.00\n",
       "1160    1629.00\n",
       "78       519.00\n",
       "23       258.00\n",
       "229     2456.34\n",
       "Name: Price_in_euros, Length: 912, dtype: float64"
      ]
     },
     "execution_count": 14,
     "metadata": {},
     "output_type": "execute_result"
    }
   ],
   "source": [
    "y"
   ]
  },
  {
   "cell_type": "markdown",
   "metadata": {},
   "source": [
    "### 2.4 Dividir X_train, X_test, y_train, y_test"
   ]
  },
  {
   "cell_type": "code",
   "execution_count": 15,
   "metadata": {},
   "outputs": [],
   "source": [
    "X_train, X_test, y_train, y_test = train_test_split(X, y, test_size = 0.20, random_state = 42)"
   ]
  },
  {
   "cell_type": "code",
   "execution_count": 16,
   "metadata": {},
   "outputs": [
    {
     "data": {
      "text/html": [
       "<div>\n",
       "<style scoped>\n",
       "    .dataframe tbody tr th:only-of-type {\n",
       "        vertical-align: middle;\n",
       "    }\n",
       "\n",
       "    .dataframe tbody tr th {\n",
       "        vertical-align: top;\n",
       "    }\n",
       "\n",
       "    .dataframe thead th {\n",
       "        text-align: right;\n",
       "    }\n",
       "</style>\n",
       "<table border=\"1\" class=\"dataframe\">\n",
       "  <thead>\n",
       "    <tr style=\"text-align: right;\">\n",
       "      <th></th>\n",
       "      <th>Company</th>\n",
       "      <th>Product</th>\n",
       "      <th>TypeName</th>\n",
       "      <th>Inches</th>\n",
       "      <th>ScreenResolution</th>\n",
       "      <th>Cpu</th>\n",
       "      <th>Ram</th>\n",
       "      <th>Memory</th>\n",
       "      <th>Gpu</th>\n",
       "      <th>OpSys</th>\n",
       "      <th>Weight</th>\n",
       "    </tr>\n",
       "    <tr>\n",
       "      <th>laptop_ID</th>\n",
       "      <th></th>\n",
       "      <th></th>\n",
       "      <th></th>\n",
       "      <th></th>\n",
       "      <th></th>\n",
       "      <th></th>\n",
       "      <th></th>\n",
       "      <th></th>\n",
       "      <th></th>\n",
       "      <th></th>\n",
       "      <th></th>\n",
       "    </tr>\n",
       "  </thead>\n",
       "  <tbody>\n",
       "    <tr>\n",
       "      <th>1118</th>\n",
       "      <td>HP</td>\n",
       "      <td>ZBook 17</td>\n",
       "      <td>Workstation</td>\n",
       "      <td>17.3</td>\n",
       "      <td>IPS Panel Full HD 1920x1080</td>\n",
       "      <td>Intel Core i7 6700HQ 2.6GHz</td>\n",
       "      <td>8GB</td>\n",
       "      <td>1TB HDD</td>\n",
       "      <td>AMD FirePro W6150M</td>\n",
       "      <td>Windows 7</td>\n",
       "      <td>3.0kg</td>\n",
       "    </tr>\n",
       "    <tr>\n",
       "      <th>153</th>\n",
       "      <td>Dell</td>\n",
       "      <td>Inspiron 5577</td>\n",
       "      <td>Gaming</td>\n",
       "      <td>15.6</td>\n",
       "      <td>Full HD 1920x1080</td>\n",
       "      <td>Intel Core i7 7700HQ 2.8GHz</td>\n",
       "      <td>16GB</td>\n",
       "      <td>512GB SSD</td>\n",
       "      <td>Nvidia GeForce GTX 1050</td>\n",
       "      <td>Windows 10</td>\n",
       "      <td>2.56kg</td>\n",
       "    </tr>\n",
       "    <tr>\n",
       "      <th>275</th>\n",
       "      <td>Apple</td>\n",
       "      <td>MacBook Pro</td>\n",
       "      <td>Ultrabook</td>\n",
       "      <td>13.3</td>\n",
       "      <td>IPS Panel Retina Display 2560x1600</td>\n",
       "      <td>Intel Core i5 2.9GHz</td>\n",
       "      <td>8GB</td>\n",
       "      <td>512GB SSD</td>\n",
       "      <td>Intel Iris Graphics 550</td>\n",
       "      <td>macOS</td>\n",
       "      <td>1.37kg</td>\n",
       "    </tr>\n",
       "    <tr>\n",
       "      <th>1100</th>\n",
       "      <td>HP</td>\n",
       "      <td>EliteBook 840</td>\n",
       "      <td>Notebook</td>\n",
       "      <td>14.0</td>\n",
       "      <td>Full HD 1920x1080</td>\n",
       "      <td>Intel Core i5 6200U 2.3GHz</td>\n",
       "      <td>4GB</td>\n",
       "      <td>500GB HDD</td>\n",
       "      <td>Intel HD Graphics 520</td>\n",
       "      <td>Windows 7</td>\n",
       "      <td>1.54kg</td>\n",
       "    </tr>\n",
       "    <tr>\n",
       "      <th>131</th>\n",
       "      <td>Dell</td>\n",
       "      <td>Inspiron 5770</td>\n",
       "      <td>Notebook</td>\n",
       "      <td>17.3</td>\n",
       "      <td>Full HD 1920x1080</td>\n",
       "      <td>Intel Core i7 8550U 1.8GHz</td>\n",
       "      <td>16GB</td>\n",
       "      <td>256GB SSD +  2TB HDD</td>\n",
       "      <td>AMD Radeon 530</td>\n",
       "      <td>Windows 10</td>\n",
       "      <td>2.8kg</td>\n",
       "    </tr>\n",
       "    <tr>\n",
       "      <th>...</th>\n",
       "      <td>...</td>\n",
       "      <td>...</td>\n",
       "      <td>...</td>\n",
       "      <td>...</td>\n",
       "      <td>...</td>\n",
       "      <td>...</td>\n",
       "      <td>...</td>\n",
       "      <td>...</td>\n",
       "      <td>...</td>\n",
       "      <td>...</td>\n",
       "      <td>...</td>\n",
       "    </tr>\n",
       "    <tr>\n",
       "      <th>578</th>\n",
       "      <td>HP</td>\n",
       "      <td>14-am079na (N3710/8GB/2TB/W10)</td>\n",
       "      <td>Notebook</td>\n",
       "      <td>14.0</td>\n",
       "      <td>1366x768</td>\n",
       "      <td>Intel Pentium Quad Core N3710 1.6GHz</td>\n",
       "      <td>8GB</td>\n",
       "      <td>2TB HDD</td>\n",
       "      <td>Intel HD Graphics 405</td>\n",
       "      <td>Windows 10</td>\n",
       "      <td>1.94kg</td>\n",
       "    </tr>\n",
       "    <tr>\n",
       "      <th>996</th>\n",
       "      <td>Lenovo</td>\n",
       "      <td>IdeaPad 320-15ABR</td>\n",
       "      <td>Notebook</td>\n",
       "      <td>15.6</td>\n",
       "      <td>Full HD 1920x1080</td>\n",
       "      <td>AMD A12-Series 9720P 3.6GHz</td>\n",
       "      <td>6GB</td>\n",
       "      <td>256GB SSD</td>\n",
       "      <td>AMD Radeon 530</td>\n",
       "      <td>Windows 10</td>\n",
       "      <td>2.2kg</td>\n",
       "    </tr>\n",
       "    <tr>\n",
       "      <th>770</th>\n",
       "      <td>Dell</td>\n",
       "      <td>Latitude 7280</td>\n",
       "      <td>Ultrabook</td>\n",
       "      <td>12.5</td>\n",
       "      <td>Full HD 1920x1080</td>\n",
       "      <td>Intel Core i7 7600U 2.8GHz</td>\n",
       "      <td>16GB</td>\n",
       "      <td>256GB SSD</td>\n",
       "      <td>Intel HD Graphics 620</td>\n",
       "      <td>Windows 10</td>\n",
       "      <td>1.18kg</td>\n",
       "    </tr>\n",
       "    <tr>\n",
       "      <th>407</th>\n",
       "      <td>Lenovo</td>\n",
       "      <td>IdeaPad 320-15IAP</td>\n",
       "      <td>Notebook</td>\n",
       "      <td>15.6</td>\n",
       "      <td>1366x768</td>\n",
       "      <td>Intel Celeron Dual Core N3350 1.1GHz</td>\n",
       "      <td>4GB</td>\n",
       "      <td>1TB HDD</td>\n",
       "      <td>Intel HD Graphics 500</td>\n",
       "      <td>Windows 10</td>\n",
       "      <td>2.2kg</td>\n",
       "    </tr>\n",
       "    <tr>\n",
       "      <th>418</th>\n",
       "      <td>Lenovo</td>\n",
       "      <td>Thinkpad T470p</td>\n",
       "      <td>Ultrabook</td>\n",
       "      <td>14.0</td>\n",
       "      <td>IPS Panel Full HD 2560x1440</td>\n",
       "      <td>Intel Core i7 7700HQ 2.8GHz</td>\n",
       "      <td>8GB</td>\n",
       "      <td>512GB SSD</td>\n",
       "      <td>Nvidia GeForce GT 940MX</td>\n",
       "      <td>Windows 10</td>\n",
       "      <td>1.7kg</td>\n",
       "    </tr>\n",
       "  </tbody>\n",
       "</table>\n",
       "<p>729 rows × 11 columns</p>\n",
       "</div>"
      ],
      "text/plain": [
       "          Company                         Product     TypeName  Inches  \\\n",
       "laptop_ID                                                                \n",
       "1118           HP                        ZBook 17  Workstation    17.3   \n",
       "153          Dell                   Inspiron 5577       Gaming    15.6   \n",
       "275         Apple                     MacBook Pro    Ultrabook    13.3   \n",
       "1100           HP                   EliteBook 840     Notebook    14.0   \n",
       "131          Dell                   Inspiron 5770     Notebook    17.3   \n",
       "...           ...                             ...          ...     ...   \n",
       "578            HP  14-am079na (N3710/8GB/2TB/W10)     Notebook    14.0   \n",
       "996        Lenovo               IdeaPad 320-15ABR     Notebook    15.6   \n",
       "770          Dell                   Latitude 7280    Ultrabook    12.5   \n",
       "407        Lenovo               IdeaPad 320-15IAP     Notebook    15.6   \n",
       "418        Lenovo                  Thinkpad T470p    Ultrabook    14.0   \n",
       "\n",
       "                             ScreenResolution  \\\n",
       "laptop_ID                                       \n",
       "1118              IPS Panel Full HD 1920x1080   \n",
       "153                         Full HD 1920x1080   \n",
       "275        IPS Panel Retina Display 2560x1600   \n",
       "1100                        Full HD 1920x1080   \n",
       "131                         Full HD 1920x1080   \n",
       "...                                       ...   \n",
       "578                                  1366x768   \n",
       "996                         Full HD 1920x1080   \n",
       "770                         Full HD 1920x1080   \n",
       "407                                  1366x768   \n",
       "418               IPS Panel Full HD 2560x1440   \n",
       "\n",
       "                                            Cpu   Ram                Memory  \\\n",
       "laptop_ID                                                                     \n",
       "1118                Intel Core i7 6700HQ 2.6GHz   8GB               1TB HDD   \n",
       "153                 Intel Core i7 7700HQ 2.8GHz  16GB             512GB SSD   \n",
       "275                        Intel Core i5 2.9GHz   8GB             512GB SSD   \n",
       "1100                 Intel Core i5 6200U 2.3GHz   4GB             500GB HDD   \n",
       "131                  Intel Core i7 8550U 1.8GHz  16GB  256GB SSD +  2TB HDD   \n",
       "...                                         ...   ...                   ...   \n",
       "578        Intel Pentium Quad Core N3710 1.6GHz   8GB               2TB HDD   \n",
       "996                 AMD A12-Series 9720P 3.6GHz   6GB             256GB SSD   \n",
       "770                  Intel Core i7 7600U 2.8GHz  16GB             256GB SSD   \n",
       "407        Intel Celeron Dual Core N3350 1.1GHz   4GB               1TB HDD   \n",
       "418                 Intel Core i7 7700HQ 2.8GHz   8GB             512GB SSD   \n",
       "\n",
       "                               Gpu       OpSys  Weight  \n",
       "laptop_ID                                               \n",
       "1118            AMD FirePro W6150M   Windows 7   3.0kg  \n",
       "153        Nvidia GeForce GTX 1050  Windows 10  2.56kg  \n",
       "275        Intel Iris Graphics 550       macOS  1.37kg  \n",
       "1100         Intel HD Graphics 520   Windows 7  1.54kg  \n",
       "131                 AMD Radeon 530  Windows 10   2.8kg  \n",
       "...                            ...         ...     ...  \n",
       "578          Intel HD Graphics 405  Windows 10  1.94kg  \n",
       "996                 AMD Radeon 530  Windows 10   2.2kg  \n",
       "770          Intel HD Graphics 620  Windows 10  1.18kg  \n",
       "407          Intel HD Graphics 500  Windows 10   2.2kg  \n",
       "418        Nvidia GeForce GT 940MX  Windows 10   1.7kg  \n",
       "\n",
       "[729 rows x 11 columns]"
      ]
     },
     "execution_count": 16,
     "metadata": {},
     "output_type": "execute_result"
    }
   ],
   "source": [
    "X_train"
   ]
  },
  {
   "cell_type": "code",
   "execution_count": 17,
   "metadata": {},
   "outputs": [
    {
     "data": {
      "text/plain": [
       "laptop_ID\n",
       "1118    2899.00\n",
       "153     1249.26\n",
       "275     1958.90\n",
       "1100    1030.99\n",
       "131     1396.00\n",
       "         ...   \n",
       "578      389.00\n",
       "996      549.00\n",
       "770     1859.00\n",
       "407      306.00\n",
       "418     1943.00\n",
       "Name: Price_in_euros, Length: 729, dtype: float64"
      ]
     },
     "execution_count": 17,
     "metadata": {},
     "output_type": "execute_result"
    }
   ],
   "source": [
    "y_train"
   ]
  },
  {
   "cell_type": "markdown",
   "metadata": {},
   "source": [
    "## 3. Procesado de datos"
   ]
  },
  {
   "cell_type": "markdown",
   "metadata": {},
   "source": [
    "Nuestro target es la columna `Price_in_euros`"
   ]
  },
  {
   "cell_type": "code",
   "execution_count": 18,
   "metadata": {},
   "outputs": [],
   "source": [
    "target = \"Price_in_euros\""
   ]
  },
  {
   "cell_type": "code",
   "execution_count": 27,
   "metadata": {},
   "outputs": [],
   "source": [
    "X_train[\"ram_gb\"]= X_train.Ram.str.replace(\"GB\", \"\").astype(int)\n",
    "X_train[\"weight_kg\"]= X_train.Weight.str.replace(\"kg\", \"\").astype(float)\n",
    "\n",
    "X_test[\"ram_gb\"]= X_test.Ram.str.replace(\"GB\", \"\").astype(int)\n",
    "X_test[\"weight_kg\"]= X_test.Weight.str.replace(\"kg\", \"\").astype(float)"
   ]
  },
  {
   "cell_type": "code",
   "execution_count": 29,
   "metadata": {},
   "outputs": [
    {
     "name": "stdout",
     "output_type": "stream",
     "text": [
      "<class 'pandas.core.frame.DataFrame'>\n",
      "Index: 729 entries, 1118 to 418\n",
      "Data columns (total 13 columns):\n",
      " #   Column            Non-Null Count  Dtype  \n",
      "---  ------            --------------  -----  \n",
      " 0   Company           729 non-null    object \n",
      " 1   Product           729 non-null    object \n",
      " 2   TypeName          729 non-null    object \n",
      " 3   Inches            729 non-null    float64\n",
      " 4   ScreenResolution  729 non-null    object \n",
      " 5   Cpu               729 non-null    object \n",
      " 6   Ram               729 non-null    object \n",
      " 7   Memory            729 non-null    object \n",
      " 8   Gpu               729 non-null    object \n",
      " 9   OpSys             729 non-null    object \n",
      " 10  Weight            729 non-null    object \n",
      " 11  ram_gb            729 non-null    int64  \n",
      " 12  weight_kg         729 non-null    float64\n",
      "dtypes: float64(2), int64(1), object(10)\n",
      "memory usage: 79.7+ KB\n"
     ]
    }
   ],
   "source": [
    "X_train.info()"
   ]
  },
  {
   "cell_type": "code",
   "execution_count": 31,
   "metadata": {},
   "outputs": [
    {
     "data": {
      "text/plain": [
       "Index(['Inches', 'ram_gb', 'weight_kg'], dtype='object')"
      ]
     },
     "execution_count": 31,
     "metadata": {},
     "output_type": "execute_result"
    }
   ],
   "source": [
    "X_train.describe().columns"
   ]
  },
  {
   "cell_type": "code",
   "execution_count": 32,
   "metadata": {},
   "outputs": [],
   "source": [
    "features_num = ['Inches', 'ram_gb', 'weight_kg']"
   ]
  },
  {
   "cell_type": "code",
   "execution_count": 34,
   "metadata": {},
   "outputs": [
    {
     "data": {
      "text/plain": [
       "<Axes: >"
      ]
     },
     "execution_count": 34,
     "metadata": {},
     "output_type": "execute_result"
    },
    {
     "data": {
      "image/png": "[encoded data removed]",
      "text/plain": [
       "<Figure size 640x480 with 1 Axes>"
      ]
     },
     "metadata": {},
     "output_type": "display_data"
    }
   ],
   "source": [
    "y_train.hist()"
   ]
  },
  {
   "cell_type": "markdown",
   "metadata": {},
   "source": [
    "-----------------------------------------------------------------------------------------------------------------"
   ]
  },
  {
   "cell_type": "markdown",
   "metadata": {},
   "source": [
    "## 4. Modelado"
   ]
  },
  {
   "cell_type": "markdown",
   "metadata": {},
   "source": [
    "### 4.1 Baseline de modelos\n"
   ]
  },
  {
   "cell_type": "code",
   "execution_count": 37,
   "metadata": {},
   "outputs": [],
   "source": [
    "X_train = X_train[features_num]\n",
    "X_test = X_test[features_num]"
   ]
  },
  {
   "cell_type": "code",
   "execution_count": 36,
   "metadata": {},
   "outputs": [
    {
     "data": {
      "text/html": [
       "<div>\n",
       "<style scoped>\n",
       "    .dataframe tbody tr th:only-of-type {\n",
       "        vertical-align: middle;\n",
       "    }\n",
       "\n",
       "    .dataframe tbody tr th {\n",
       "        vertical-align: top;\n",
       "    }\n",
       "\n",
       "    .dataframe thead th {\n",
       "        text-align: right;\n",
       "    }\n",
       "</style>\n",
       "<table border=\"1\" class=\"dataframe\">\n",
       "  <thead>\n",
       "    <tr style=\"text-align: right;\">\n",
       "      <th></th>\n",
       "      <th>Inches</th>\n",
       "      <th>ram_gb</th>\n",
       "      <th>weight_kg</th>\n",
       "    </tr>\n",
       "    <tr>\n",
       "      <th>laptop_ID</th>\n",
       "      <th></th>\n",
       "      <th></th>\n",
       "      <th></th>\n",
       "    </tr>\n",
       "  </thead>\n",
       "  <tbody>\n",
       "    <tr>\n",
       "      <th>1118</th>\n",
       "      <td>17.3</td>\n",
       "      <td>8</td>\n",
       "      <td>3.00</td>\n",
       "    </tr>\n",
       "    <tr>\n",
       "      <th>153</th>\n",
       "      <td>15.6</td>\n",
       "      <td>16</td>\n",
       "      <td>2.56</td>\n",
       "    </tr>\n",
       "    <tr>\n",
       "      <th>275</th>\n",
       "      <td>13.3</td>\n",
       "      <td>8</td>\n",
       "      <td>1.37</td>\n",
       "    </tr>\n",
       "    <tr>\n",
       "      <th>1100</th>\n",
       "      <td>14.0</td>\n",
       "      <td>4</td>\n",
       "      <td>1.54</td>\n",
       "    </tr>\n",
       "    <tr>\n",
       "      <th>131</th>\n",
       "      <td>17.3</td>\n",
       "      <td>16</td>\n",
       "      <td>2.80</td>\n",
       "    </tr>\n",
       "    <tr>\n",
       "      <th>...</th>\n",
       "      <td>...</td>\n",
       "      <td>...</td>\n",
       "      <td>...</td>\n",
       "    </tr>\n",
       "    <tr>\n",
       "      <th>578</th>\n",
       "      <td>14.0</td>\n",
       "      <td>8</td>\n",
       "      <td>1.94</td>\n",
       "    </tr>\n",
       "    <tr>\n",
       "      <th>996</th>\n",
       "      <td>15.6</td>\n",
       "      <td>6</td>\n",
       "      <td>2.20</td>\n",
       "    </tr>\n",
       "    <tr>\n",
       "      <th>770</th>\n",
       "      <td>12.5</td>\n",
       "      <td>16</td>\n",
       "      <td>1.18</td>\n",
       "    </tr>\n",
       "    <tr>\n",
       "      <th>407</th>\n",
       "      <td>15.6</td>\n",
       "      <td>4</td>\n",
       "      <td>2.20</td>\n",
       "    </tr>\n",
       "    <tr>\n",
       "      <th>418</th>\n",
       "      <td>14.0</td>\n",
       "      <td>8</td>\n",
       "      <td>1.70</td>\n",
       "    </tr>\n",
       "  </tbody>\n",
       "</table>\n",
       "<p>729 rows × 3 columns</p>\n",
       "</div>"
      ],
      "text/plain": [
       "           Inches  ram_gb  weight_kg\n",
       "laptop_ID                           \n",
       "1118         17.3       8       3.00\n",
       "153          15.6      16       2.56\n",
       "275          13.3       8       1.37\n",
       "1100         14.0       4       1.54\n",
       "131          17.3      16       2.80\n",
       "...           ...     ...        ...\n",
       "578          14.0       8       1.94\n",
       "996          15.6       6       2.20\n",
       "770          12.5      16       1.18\n",
       "407          15.6       4       2.20\n",
       "418          14.0       8       1.70\n",
       "\n",
       "[729 rows x 3 columns]"
      ]
     },
     "execution_count": 36,
     "metadata": {},
     "output_type": "execute_result"
    }
   ],
   "source": [
    "X_train"
   ]
  },
  {
   "cell_type": "code",
   "execution_count": 38,
   "metadata": {},
   "outputs": [
    {
     "data": {
      "text/html": [
       "<div>\n",
       "<style scoped>\n",
       "    .dataframe tbody tr th:only-of-type {\n",
       "        vertical-align: middle;\n",
       "    }\n",
       "\n",
       "    .dataframe tbody tr th {\n",
       "        vertical-align: top;\n",
       "    }\n",
       "\n",
       "    .dataframe thead th {\n",
       "        text-align: right;\n",
       "    }\n",
       "</style>\n",
       "<table border=\"1\" class=\"dataframe\">\n",
       "  <thead>\n",
       "    <tr style=\"text-align: right;\">\n",
       "      <th></th>\n",
       "      <th>Inches</th>\n",
       "      <th>ram_gb</th>\n",
       "      <th>weight_kg</th>\n",
       "    </tr>\n",
       "    <tr>\n",
       "      <th>laptop_ID</th>\n",
       "      <th></th>\n",
       "      <th></th>\n",
       "      <th></th>\n",
       "    </tr>\n",
       "  </thead>\n",
       "  <tbody>\n",
       "    <tr>\n",
       "      <th>451</th>\n",
       "      <td>15.6</td>\n",
       "      <td>8</td>\n",
       "      <td>2.20</td>\n",
       "    </tr>\n",
       "    <tr>\n",
       "      <th>802</th>\n",
       "      <td>15.6</td>\n",
       "      <td>8</td>\n",
       "      <td>2.08</td>\n",
       "    </tr>\n",
       "    <tr>\n",
       "      <th>723</th>\n",
       "      <td>14.0</td>\n",
       "      <td>8</td>\n",
       "      <td>1.87</td>\n",
       "    </tr>\n",
       "    <tr>\n",
       "      <th>682</th>\n",
       "      <td>14.0</td>\n",
       "      <td>4</td>\n",
       "      <td>1.63</td>\n",
       "    </tr>\n",
       "    <tr>\n",
       "      <th>1306</th>\n",
       "      <td>15.6</td>\n",
       "      <td>4</td>\n",
       "      <td>2.20</td>\n",
       "    </tr>\n",
       "    <tr>\n",
       "      <th>...</th>\n",
       "      <td>...</td>\n",
       "      <td>...</td>\n",
       "      <td>...</td>\n",
       "    </tr>\n",
       "    <tr>\n",
       "      <th>369</th>\n",
       "      <td>15.6</td>\n",
       "      <td>8</td>\n",
       "      <td>1.86</td>\n",
       "    </tr>\n",
       "    <tr>\n",
       "      <th>626</th>\n",
       "      <td>11.6</td>\n",
       "      <td>4</td>\n",
       "      <td>1.25</td>\n",
       "    </tr>\n",
       "    <tr>\n",
       "      <th>416</th>\n",
       "      <td>11.6</td>\n",
       "      <td>2</td>\n",
       "      <td>1.15</td>\n",
       "    </tr>\n",
       "    <tr>\n",
       "      <th>546</th>\n",
       "      <td>14.0</td>\n",
       "      <td>8</td>\n",
       "      <td>1.87</td>\n",
       "    </tr>\n",
       "    <tr>\n",
       "      <th>260</th>\n",
       "      <td>13.3</td>\n",
       "      <td>8</td>\n",
       "      <td>1.41</td>\n",
       "    </tr>\n",
       "  </tbody>\n",
       "</table>\n",
       "<p>183 rows × 3 columns</p>\n",
       "</div>"
      ],
      "text/plain": [
       "           Inches  ram_gb  weight_kg\n",
       "laptop_ID                           \n",
       "451          15.6       8       2.20\n",
       "802          15.6       8       2.08\n",
       "723          14.0       8       1.87\n",
       "682          14.0       4       1.63\n",
       "1306         15.6       4       2.20\n",
       "...           ...     ...        ...\n",
       "369          15.6       8       1.86\n",
       "626          11.6       4       1.25\n",
       "416          11.6       2       1.15\n",
       "546          14.0       8       1.87\n",
       "260          13.3       8       1.41\n",
       "\n",
       "[183 rows x 3 columns]"
      ]
     },
     "execution_count": 38,
     "metadata": {},
     "output_type": "execute_result"
    }
   ],
   "source": [
    "X_test"
   ]
  },
  {
   "cell_type": "code",
   "execution_count": 43,
   "metadata": {},
   "outputs": [],
   "source": [
    "modelo= RandomForestRegressor(n_estimators= 100, random_state= 42, max_depth=10)\n",
    "modelo.fit(X_train, y_train)\n",
    "y_predict = modelo.predict(X_test)"
   ]
  },
  {
   "cell_type": "code",
   "execution_count": 44,
   "metadata": {},
   "outputs": [
    {
     "data": {
      "text/plain": [
       "474.44787578913116"
      ]
     },
     "execution_count": 44,
     "metadata": {},
     "output_type": "execute_result"
    }
   ],
   "source": [
    "root_mean_squared_error(y_test, y_predict)"
   ]
  },
  {
   "cell_type": "markdown",
   "metadata": {},
   "source": [
    "### 4.2 Sacar métricas, valorar los modelos \n",
    "\n",
    "Recuerda que en la competición se va a evaluar con la métrica de ``RMSE``."
   ]
  },
  {
   "cell_type": "code",
   "execution_count": null,
   "metadata": {},
   "outputs": [],
   "source": []
  },
  {
   "cell_type": "markdown",
   "metadata": {},
   "source": [
    "### 4.3 Optimización (up to you 🫰🏻)"
   ]
  },
  {
   "cell_type": "markdown",
   "metadata": {},
   "source": [
    "-----------------------------------------------------------------"
   ]
  },
  {
   "cell_type": "markdown",
   "metadata": {},
   "source": [
    "## Una vez listo el modelo, toca predecir ``test.csv``"
   ]
  },
  {
   "cell_type": "markdown",
   "metadata": {},
   "source": [
    "**RECUERDA: APLICAR LAS TRANSFORMACIONES QUE HAYAS REALIZADO EN `train.csv` a `test.csv`.**\n",
    "\n",
    "\n",
    "Véase:\n",
    "- Estandarización/Normalización\n",
    "- Eliminación de Outliers\n",
    "- Eliminación de columnas\n",
    "- Creación de columnas nuevas\n",
    "- Gestión de valores nulos\n",
    "- Y un largo etcétera de técnicas que como Data Scientist hayas considerado las mejores para tu dataset."
   ]
  },
  {
   "cell_type": "markdown",
   "metadata": {},
   "source": [
    "## 1. Carga los datos de `test.csv` para predecir.\n"
   ]
  },
  {
   "cell_type": "code",
   "execution_count": 46,
   "metadata": {},
   "outputs": [
    {
     "data": {
      "text/html": [
       "<div>\n",
       "<style scoped>\n",
       "    .dataframe tbody tr th:only-of-type {\n",
       "        vertical-align: middle;\n",
       "    }\n",
       "\n",
       "    .dataframe tbody tr th {\n",
       "        vertical-align: top;\n",
       "    }\n",
       "\n",
       "    .dataframe thead th {\n",
       "        text-align: right;\n",
       "    }\n",
       "</style>\n",
       "<table border=\"1\" class=\"dataframe\">\n",
       "  <thead>\n",
       "    <tr style=\"text-align: right;\">\n",
       "      <th></th>\n",
       "      <th>Company</th>\n",
       "      <th>Product</th>\n",
       "      <th>TypeName</th>\n",
       "      <th>Inches</th>\n",
       "      <th>ScreenResolution</th>\n",
       "      <th>Cpu</th>\n",
       "      <th>Ram</th>\n",
       "      <th>Memory</th>\n",
       "      <th>Gpu</th>\n",
       "      <th>OpSys</th>\n",
       "      <th>Weight</th>\n",
       "    </tr>\n",
       "    <tr>\n",
       "      <th>laptop_ID</th>\n",
       "      <th></th>\n",
       "      <th></th>\n",
       "      <th></th>\n",
       "      <th></th>\n",
       "      <th></th>\n",
       "      <th></th>\n",
       "      <th></th>\n",
       "      <th></th>\n",
       "      <th></th>\n",
       "      <th></th>\n",
       "      <th></th>\n",
       "    </tr>\n",
       "  </thead>\n",
       "  <tbody>\n",
       "    <tr>\n",
       "      <th>209</th>\n",
       "      <td>Lenovo</td>\n",
       "      <td>Legion Y520-15IKBN</td>\n",
       "      <td>Gaming</td>\n",
       "      <td>15.6</td>\n",
       "      <td>Full HD 1920x1080</td>\n",
       "      <td>Intel Core i7 7700HQ 2.8GHz</td>\n",
       "      <td>16GB</td>\n",
       "      <td>512GB SSD</td>\n",
       "      <td>Nvidia GeForce GTX 1060</td>\n",
       "      <td>No OS</td>\n",
       "      <td>2.4kg</td>\n",
       "    </tr>\n",
       "    <tr>\n",
       "      <th>1281</th>\n",
       "      <td>Acer</td>\n",
       "      <td>Aspire ES1-531</td>\n",
       "      <td>Notebook</td>\n",
       "      <td>15.6</td>\n",
       "      <td>1366x768</td>\n",
       "      <td>Intel Celeron Dual Core N3060 1.6GHz</td>\n",
       "      <td>4GB</td>\n",
       "      <td>500GB HDD</td>\n",
       "      <td>Intel HD Graphics 400</td>\n",
       "      <td>Linux</td>\n",
       "      <td>2.4kg</td>\n",
       "    </tr>\n",
       "    <tr>\n",
       "      <th>1168</th>\n",
       "      <td>Lenovo</td>\n",
       "      <td>V110-15ISK (i3-6006U/4GB/1TB/No</td>\n",
       "      <td>Notebook</td>\n",
       "      <td>15.6</td>\n",
       "      <td>1366x768</td>\n",
       "      <td>Intel Core i3 6006U 2.0GHz</td>\n",
       "      <td>4GB</td>\n",
       "      <td>1TB HDD</td>\n",
       "      <td>Intel HD Graphics 520</td>\n",
       "      <td>No OS</td>\n",
       "      <td>1.9kg</td>\n",
       "    </tr>\n",
       "    <tr>\n",
       "      <th>1231</th>\n",
       "      <td>Dell</td>\n",
       "      <td>Inspiron 7579</td>\n",
       "      <td>2 in 1 Convertible</td>\n",
       "      <td>15.6</td>\n",
       "      <td>IPS Panel Full HD / Touchscreen 1920x1080</td>\n",
       "      <td>Intel Core i5 7200U 2.5GHz</td>\n",
       "      <td>8GB</td>\n",
       "      <td>256GB SSD</td>\n",
       "      <td>Intel HD Graphics 620</td>\n",
       "      <td>Windows 10</td>\n",
       "      <td>2.191kg</td>\n",
       "    </tr>\n",
       "    <tr>\n",
       "      <th>1020</th>\n",
       "      <td>HP</td>\n",
       "      <td>ProBook 640</td>\n",
       "      <td>Notebook</td>\n",
       "      <td>14.0</td>\n",
       "      <td>Full HD 1920x1080</td>\n",
       "      <td>Intel Core i5 7200U 2.5GHz</td>\n",
       "      <td>4GB</td>\n",
       "      <td>256GB SSD</td>\n",
       "      <td>Intel HD Graphics 620</td>\n",
       "      <td>Windows 10</td>\n",
       "      <td>1.95kg</td>\n",
       "    </tr>\n",
       "  </tbody>\n",
       "</table>\n",
       "</div>"
      ],
      "text/plain": [
       "          Company                          Product            TypeName  \\\n",
       "laptop_ID                                                                \n",
       "209        Lenovo               Legion Y520-15IKBN              Gaming   \n",
       "1281         Acer                   Aspire ES1-531            Notebook   \n",
       "1168       Lenovo  V110-15ISK (i3-6006U/4GB/1TB/No            Notebook   \n",
       "1231         Dell                    Inspiron 7579  2 in 1 Convertible   \n",
       "1020           HP                      ProBook 640            Notebook   \n",
       "\n",
       "           Inches                           ScreenResolution  \\\n",
       "laptop_ID                                                      \n",
       "209          15.6                          Full HD 1920x1080   \n",
       "1281         15.6                                   1366x768   \n",
       "1168         15.6                                   1366x768   \n",
       "1231         15.6  IPS Panel Full HD / Touchscreen 1920x1080   \n",
       "1020         14.0                          Full HD 1920x1080   \n",
       "\n",
       "                                            Cpu   Ram     Memory  \\\n",
       "laptop_ID                                                          \n",
       "209                 Intel Core i7 7700HQ 2.8GHz  16GB  512GB SSD   \n",
       "1281       Intel Celeron Dual Core N3060 1.6GHz   4GB  500GB HDD   \n",
       "1168                 Intel Core i3 6006U 2.0GHz   4GB    1TB HDD   \n",
       "1231                 Intel Core i5 7200U 2.5GHz   8GB  256GB SSD   \n",
       "1020                 Intel Core i5 7200U 2.5GHz   4GB  256GB SSD   \n",
       "\n",
       "                               Gpu       OpSys   Weight  \n",
       "laptop_ID                                                \n",
       "209        Nvidia GeForce GTX 1060       No OS    2.4kg  \n",
       "1281         Intel HD Graphics 400       Linux    2.4kg  \n",
       "1168         Intel HD Graphics 520       No OS    1.9kg  \n",
       "1231         Intel HD Graphics 620  Windows 10  2.191kg  \n",
       "1020         Intel HD Graphics 620  Windows 10   1.95kg  "
      ]
     },
     "execution_count": 46,
     "metadata": {},
     "output_type": "execute_result"
    }
   ],
   "source": [
    "X_pred = pd.read_csv(\"./data/test.csv\",index_col= \"laptop_ID\")\n",
    "X_pred.head()"
   ]
  },
  {
   "cell_type": "code",
   "execution_count": 47,
   "metadata": {},
   "outputs": [
    {
     "data": {
      "text/html": [
       "<div>\n",
       "<style scoped>\n",
       "    .dataframe tbody tr th:only-of-type {\n",
       "        vertical-align: middle;\n",
       "    }\n",
       "\n",
       "    .dataframe tbody tr th {\n",
       "        vertical-align: top;\n",
       "    }\n",
       "\n",
       "    .dataframe thead th {\n",
       "        text-align: right;\n",
       "    }\n",
       "</style>\n",
       "<table border=\"1\" class=\"dataframe\">\n",
       "  <thead>\n",
       "    <tr style=\"text-align: right;\">\n",
       "      <th></th>\n",
       "      <th>Company</th>\n",
       "      <th>Product</th>\n",
       "      <th>TypeName</th>\n",
       "      <th>Inches</th>\n",
       "      <th>ScreenResolution</th>\n",
       "      <th>Cpu</th>\n",
       "      <th>Ram</th>\n",
       "      <th>Memory</th>\n",
       "      <th>Gpu</th>\n",
       "      <th>OpSys</th>\n",
       "      <th>Weight</th>\n",
       "    </tr>\n",
       "    <tr>\n",
       "      <th>laptop_ID</th>\n",
       "      <th></th>\n",
       "      <th></th>\n",
       "      <th></th>\n",
       "      <th></th>\n",
       "      <th></th>\n",
       "      <th></th>\n",
       "      <th></th>\n",
       "      <th></th>\n",
       "      <th></th>\n",
       "      <th></th>\n",
       "      <th></th>\n",
       "    </tr>\n",
       "  </thead>\n",
       "  <tbody>\n",
       "    <tr>\n",
       "      <th>820</th>\n",
       "      <td>MSI</td>\n",
       "      <td>GE72MVR 7RG</td>\n",
       "      <td>Gaming</td>\n",
       "      <td>17.3</td>\n",
       "      <td>Full HD 1920x1080</td>\n",
       "      <td>Intel Core i7 7700HQ 2.8GHz</td>\n",
       "      <td>16GB</td>\n",
       "      <td>512GB SSD +  1TB HDD</td>\n",
       "      <td>Nvidia GeForce GTX 1070</td>\n",
       "      <td>Windows 10</td>\n",
       "      <td>2.9kg</td>\n",
       "    </tr>\n",
       "    <tr>\n",
       "      <th>948</th>\n",
       "      <td>Toshiba</td>\n",
       "      <td>Tecra Z40-C-12X</td>\n",
       "      <td>Notebook</td>\n",
       "      <td>14.0</td>\n",
       "      <td>IPS Panel Full HD 1920x1080</td>\n",
       "      <td>Intel Core i5 6200U 2.3GHz</td>\n",
       "      <td>4GB</td>\n",
       "      <td>128GB SSD</td>\n",
       "      <td>Intel HD Graphics 520</td>\n",
       "      <td>Windows 10</td>\n",
       "      <td>1.47kg</td>\n",
       "    </tr>\n",
       "    <tr>\n",
       "      <th>483</th>\n",
       "      <td>Dell</td>\n",
       "      <td>Precision M5520</td>\n",
       "      <td>Workstation</td>\n",
       "      <td>15.6</td>\n",
       "      <td>Full HD 1920x1080</td>\n",
       "      <td>Intel Core i7 7700HQ 2.8GHz</td>\n",
       "      <td>8GB</td>\n",
       "      <td>256GB SSD</td>\n",
       "      <td>Nvidia Quadro M1200</td>\n",
       "      <td>Windows 10</td>\n",
       "      <td>1.78kg</td>\n",
       "    </tr>\n",
       "    <tr>\n",
       "      <th>1017</th>\n",
       "      <td>HP</td>\n",
       "      <td>Probook 440</td>\n",
       "      <td>Notebook</td>\n",
       "      <td>14.0</td>\n",
       "      <td>1366x768</td>\n",
       "      <td>Intel Core i5 7200U 2.5GHz</td>\n",
       "      <td>4GB</td>\n",
       "      <td>500GB HDD</td>\n",
       "      <td>Intel HD Graphics 620</td>\n",
       "      <td>Windows 10</td>\n",
       "      <td>1.64kg</td>\n",
       "    </tr>\n",
       "    <tr>\n",
       "      <th>421</th>\n",
       "      <td>Asus</td>\n",
       "      <td>ZenBook Flip</td>\n",
       "      <td>2 in 1 Convertible</td>\n",
       "      <td>13.3</td>\n",
       "      <td>IPS Panel Full HD / Touchscreen 1920x1080</td>\n",
       "      <td>Intel Core i5 7200U 2.5GHz</td>\n",
       "      <td>8GB</td>\n",
       "      <td>256GB SSD</td>\n",
       "      <td>Intel HD Graphics 620</td>\n",
       "      <td>Windows 10</td>\n",
       "      <td>1.27kg</td>\n",
       "    </tr>\n",
       "  </tbody>\n",
       "</table>\n",
       "</div>"
      ],
      "text/plain": [
       "           Company          Product            TypeName  Inches  \\\n",
       "laptop_ID                                                         \n",
       "820            MSI      GE72MVR 7RG              Gaming    17.3   \n",
       "948        Toshiba  Tecra Z40-C-12X            Notebook    14.0   \n",
       "483           Dell  Precision M5520         Workstation    15.6   \n",
       "1017            HP      Probook 440            Notebook    14.0   \n",
       "421           Asus     ZenBook Flip  2 in 1 Convertible    13.3   \n",
       "\n",
       "                                    ScreenResolution  \\\n",
       "laptop_ID                                              \n",
       "820                                Full HD 1920x1080   \n",
       "948                      IPS Panel Full HD 1920x1080   \n",
       "483                                Full HD 1920x1080   \n",
       "1017                                        1366x768   \n",
       "421        IPS Panel Full HD / Touchscreen 1920x1080   \n",
       "\n",
       "                                   Cpu   Ram                Memory  \\\n",
       "laptop_ID                                                            \n",
       "820        Intel Core i7 7700HQ 2.8GHz  16GB  512GB SSD +  1TB HDD   \n",
       "948         Intel Core i5 6200U 2.3GHz   4GB             128GB SSD   \n",
       "483        Intel Core i7 7700HQ 2.8GHz   8GB             256GB SSD   \n",
       "1017        Intel Core i5 7200U 2.5GHz   4GB             500GB HDD   \n",
       "421         Intel Core i5 7200U 2.5GHz   8GB             256GB SSD   \n",
       "\n",
       "                               Gpu       OpSys  Weight  \n",
       "laptop_ID                                               \n",
       "820        Nvidia GeForce GTX 1070  Windows 10   2.9kg  \n",
       "948          Intel HD Graphics 520  Windows 10  1.47kg  \n",
       "483            Nvidia Quadro M1200  Windows 10  1.78kg  \n",
       "1017         Intel HD Graphics 620  Windows 10  1.64kg  \n",
       "421          Intel HD Graphics 620  Windows 10  1.27kg  "
      ]
     },
     "execution_count": 47,
     "metadata": {},
     "output_type": "execute_result"
    }
   ],
   "source": [
    "X_pred.tail()"
   ]
  },
  {
   "cell_type": "code",
   "execution_count": 48,
   "metadata": {},
   "outputs": [
    {
     "name": "stdout",
     "output_type": "stream",
     "text": [
      "<class 'pandas.core.frame.DataFrame'>\n",
      "Index: 391 entries, 209 to 421\n",
      "Data columns (total 11 columns):\n",
      " #   Column            Non-Null Count  Dtype  \n",
      "---  ------            --------------  -----  \n",
      " 0   Company           391 non-null    object \n",
      " 1   Product           391 non-null    object \n",
      " 2   TypeName          391 non-null    object \n",
      " 3   Inches            391 non-null    float64\n",
      " 4   ScreenResolution  391 non-null    object \n",
      " 5   Cpu               391 non-null    object \n",
      " 6   Ram               391 non-null    object \n",
      " 7   Memory            391 non-null    object \n",
      " 8   Gpu               391 non-null    object \n",
      " 9   OpSys             391 non-null    object \n",
      " 10  Weight            391 non-null    object \n",
      "dtypes: float64(1), object(10)\n",
      "memory usage: 36.7+ KB\n"
     ]
    }
   ],
   "source": [
    "X_pred.info()"
   ]
  },
  {
   "cell_type": "markdown",
   "metadata": {},
   "source": [
    " ## 2. Replicar el procesado para ``test.csv``"
   ]
  },
  {
   "cell_type": "code",
   "execution_count": 51,
   "metadata": {},
   "outputs": [],
   "source": [
    "X_pred[\"ram_gb\"]= X_pred.Ram.str.replace(\"GB\", \"\").astype(int)\n",
    "X_pred[\"weight_kg\"]= X_pred.Weight.str.replace(\"kg\", \"\").astype(float)\n",
    "\n",
    "features_num = ['Inches', 'ram_gb', 'weight_kg']"
   ]
  },
  {
   "cell_type": "code",
   "execution_count": 52,
   "metadata": {},
   "outputs": [],
   "source": [
    "X_pred = X_pred[features_num]"
   ]
  },
  {
   "cell_type": "code",
   "execution_count": 53,
   "metadata": {},
   "outputs": [
    {
     "data": {
      "text/html": [
       "<div>\n",
       "<style scoped>\n",
       "    .dataframe tbody tr th:only-of-type {\n",
       "        vertical-align: middle;\n",
       "    }\n",
       "\n",
       "    .dataframe tbody tr th {\n",
       "        vertical-align: top;\n",
       "    }\n",
       "\n",
       "    .dataframe thead th {\n",
       "        text-align: right;\n",
       "    }\n",
       "</style>\n",
       "<table border=\"1\" class=\"dataframe\">\n",
       "  <thead>\n",
       "    <tr style=\"text-align: right;\">\n",
       "      <th></th>\n",
       "      <th>Inches</th>\n",
       "      <th>ram_gb</th>\n",
       "      <th>weight_kg</th>\n",
       "    </tr>\n",
       "    <tr>\n",
       "      <th>laptop_ID</th>\n",
       "      <th></th>\n",
       "      <th></th>\n",
       "      <th></th>\n",
       "    </tr>\n",
       "  </thead>\n",
       "  <tbody>\n",
       "    <tr>\n",
       "      <th>209</th>\n",
       "      <td>15.6</td>\n",
       "      <td>16</td>\n",
       "      <td>2.400</td>\n",
       "    </tr>\n",
       "    <tr>\n",
       "      <th>1281</th>\n",
       "      <td>15.6</td>\n",
       "      <td>4</td>\n",
       "      <td>2.400</td>\n",
       "    </tr>\n",
       "    <tr>\n",
       "      <th>1168</th>\n",
       "      <td>15.6</td>\n",
       "      <td>4</td>\n",
       "      <td>1.900</td>\n",
       "    </tr>\n",
       "    <tr>\n",
       "      <th>1231</th>\n",
       "      <td>15.6</td>\n",
       "      <td>8</td>\n",
       "      <td>2.191</td>\n",
       "    </tr>\n",
       "    <tr>\n",
       "      <th>1020</th>\n",
       "      <td>14.0</td>\n",
       "      <td>4</td>\n",
       "      <td>1.950</td>\n",
       "    </tr>\n",
       "    <tr>\n",
       "      <th>...</th>\n",
       "      <td>...</td>\n",
       "      <td>...</td>\n",
       "      <td>...</td>\n",
       "    </tr>\n",
       "    <tr>\n",
       "      <th>820</th>\n",
       "      <td>17.3</td>\n",
       "      <td>16</td>\n",
       "      <td>2.900</td>\n",
       "    </tr>\n",
       "    <tr>\n",
       "      <th>948</th>\n",
       "      <td>14.0</td>\n",
       "      <td>4</td>\n",
       "      <td>1.470</td>\n",
       "    </tr>\n",
       "    <tr>\n",
       "      <th>483</th>\n",
       "      <td>15.6</td>\n",
       "      <td>8</td>\n",
       "      <td>1.780</td>\n",
       "    </tr>\n",
       "    <tr>\n",
       "      <th>1017</th>\n",
       "      <td>14.0</td>\n",
       "      <td>4</td>\n",
       "      <td>1.640</td>\n",
       "    </tr>\n",
       "    <tr>\n",
       "      <th>421</th>\n",
       "      <td>13.3</td>\n",
       "      <td>8</td>\n",
       "      <td>1.270</td>\n",
       "    </tr>\n",
       "  </tbody>\n",
       "</table>\n",
       "<p>391 rows × 3 columns</p>\n",
       "</div>"
      ],
      "text/plain": [
       "           Inches  ram_gb  weight_kg\n",
       "laptop_ID                           \n",
       "209          15.6      16      2.400\n",
       "1281         15.6       4      2.400\n",
       "1168         15.6       4      1.900\n",
       "1231         15.6       8      2.191\n",
       "1020         14.0       4      1.950\n",
       "...           ...     ...        ...\n",
       "820          17.3      16      2.900\n",
       "948          14.0       4      1.470\n",
       "483          15.6       8      1.780\n",
       "1017         14.0       4      1.640\n",
       "421          13.3       8      1.270\n",
       "\n",
       "[391 rows x 3 columns]"
      ]
     },
     "execution_count": 53,
     "metadata": {},
     "output_type": "execute_result"
    }
   ],
   "source": [
    "X_pred"
   ]
  },
  {
   "cell_type": "code",
   "execution_count": 55,
   "metadata": {},
   "outputs": [
    {
     "data": {
      "text/plain": [
       "array([1469.55043783,  492.3028308 ,  481.70677706,  812.81648951,\n",
       "       1067.14754765,  596.80197189,  725.84777317, 1432.29966815,\n",
       "       1666.3635797 ,  606.9821186 , 2272.9651619 , 1518.90317869,\n",
       "        532.30305365, 1468.5611    , 1075.17749577,  421.18656622,\n",
       "       2002.69949636, 1452.00434638, 1747.25291562,  595.63812171,\n",
       "       1450.1497    ,  468.74752942, 1109.86410032, 1770.21976112,\n",
       "        516.10130462,  812.81648951, 1078.37096376,  845.41314286,\n",
       "       2427.8289419 , 1073.74604978, 1844.33409381,  487.45032203,\n",
       "       1331.76023036, 3238.63526833, 2055.0115696 , 1983.7817225 ,\n",
       "        548.34605177, 1549.02581977,  873.1145849 , 1440.00126491,\n",
       "        939.15282433, 1333.52752752,  577.92877266, 1073.74604978,\n",
       "       1983.7817225 ,  812.81648951, 1142.66302193,  487.45032203,\n",
       "        812.81648951,  483.14439167, 2088.38807142,  812.81648951,\n",
       "       1033.06030501,  565.23591905, 1775.1077264 , 2011.52075641,\n",
       "        576.27141176,  918.77864665, 1075.17749577,  710.32042444,\n",
       "       2262.94287047, 2138.61723668,  458.47835465, 2084.86540785,\n",
       "       1142.66302193,  839.04589192,  617.197373  , 1464.60387116,\n",
       "       2187.45329287, 1927.37261333,  567.51192965,  310.16938333,\n",
       "       1107.10911489, 1777.64672005, 1075.17749577, 1361.1795324 ,\n",
       "       1315.45985576, 1545.57333306, 1450.1497    , 1440.00126491,\n",
       "       1045.20262742,  816.4719926 , 1833.27666433, 1664.05625363,\n",
       "       1469.55043783, 2008.68061014,  649.28657226,  812.81648951,\n",
       "        756.09211851,  756.09211851,  710.32042444, 1710.95974033,\n",
       "        864.47171222, 4168.80399667, 1856.63409381, 1085.1135657 ,\n",
       "        705.39918502,  644.59300994,  837.24202469,  980.88535115,\n",
       "       1739.64982179,  623.36896743, 1777.64672005,  864.47171222,\n",
       "        458.47835465, 1469.55043783, 1248.52213818,  901.25384437,\n",
       "        383.87709055, 1085.1135657 , 1518.90317869,  487.45032203,\n",
       "        837.24202469,  812.81648951, 1165.06367817,  483.14439167,\n",
       "        576.27141176, 1315.45985576, 2023.67547742, 1084.86340016,\n",
       "        812.81648951,  651.3961322 ,  760.52477075, 1904.72801142,\n",
       "        836.62357637,  481.70677706, 1889.02027738, 1075.17749577,\n",
       "        483.14439167,  697.87386139, 1196.00869975, 1373.37388345,\n",
       "       1469.55043783, 1687.56778676,  590.21007955, 1771.33115873,\n",
       "        735.9002737 , 1107.10911489, 1605.46724249,  504.02520663,\n",
       "       1739.64982179,  812.81648951, 1399.47474221, 1107.10911489,\n",
       "       1669.18276141, 1084.86340016, 1154.50569103,  920.36614281,\n",
       "       1668.81165635,  980.88535115,  873.1145849 ,  831.56540311,\n",
       "        837.24202469, 1655.63641398,  939.15282433,  812.81648951,\n",
       "       1075.17749577,  981.18261927,  829.63252123,  487.45032203,\n",
       "        385.13544238, 2088.38807142,  812.81648951,  623.36896743,\n",
       "        862.4592164 , 1055.56098799, 1932.84004885,  219.32716667,\n",
       "        882.7905472 , 1050.85884406, 1272.23572426,  385.13544238,\n",
       "        458.47835465,  572.98139602, 1588.4675    ,  534.40707732,\n",
       "       1075.17749577,  483.14439167,  838.64202173, 1154.50569103,\n",
       "        487.45032203, 5052.283     , 1073.74604978,  760.52477075,\n",
       "       1333.52752752, 1947.23887584,  445.86043579,  898.87311929,\n",
       "       1699.05384475,  901.25384437,  509.80732865, 1715.73066722,\n",
       "        920.36614281,  656.18334428,  590.20977117,  483.14439167,\n",
       "       1154.50569103,  801.10419824,  812.81648951,  351.69701798,\n",
       "        760.52477075, 2431.41354286,  852.66259247,  684.42277679,\n",
       "        504.02520663,  785.11550895, 2431.41354286,  487.45032203,\n",
       "       1181.46706215,  385.13544238, 1549.02581977,  663.52768802,\n",
       "        595.63812171,  791.46119674,  812.81648951, 1492.700102  ,\n",
       "       1315.45985576,  882.7905472 ,  831.77750311,  901.25384437,\n",
       "        487.45032203, 1399.47474221, 1315.45985576, 1496.35198572,\n",
       "        682.52483439, 1085.1135657 ,  481.70677706,  812.81648951,\n",
       "        487.45032203, 2023.67547742,  479.82301939,  483.14439167,\n",
       "        981.18261927, 1436.56286984,  385.13544238,  920.36614281,\n",
       "       3072.67959167,  864.47171222,  937.12939292, 1061.05091455,\n",
       "       1591.84799804,  548.34605177, 1154.50569103, 1422.89107143,\n",
       "       1033.06030501, 2282.88653333,  945.33283333,  901.25384437,\n",
       "        901.25384437, 2023.67547742, 1272.23572426,  487.45032203,\n",
       "       1725.37970274, 1142.66302193, 1725.37970274, 2427.8289419 ,\n",
       "        606.9821186 ,  623.36896743, 1124.71458614,  812.81648951,\n",
       "        492.3028308 ,  548.34605177, 1775.91826112,  487.45032203,\n",
       "       2348.58553333, 1549.02581977, 1432.29966815,  483.14439167,\n",
       "       1683.78032869, 1534.58582636,  385.13544238,  487.45032203,\n",
       "       1075.17749577, 1221.1578702 , 1897.36336547,  760.52477075,\n",
       "        483.14439167,  776.61373647, 1154.50569103,  543.58344953,\n",
       "        458.47835465, 1102.63880442, 1440.00126491,  709.41297575,\n",
       "        458.47835465, 1154.50569103,  932.51013364, 1549.02581977,\n",
       "       3238.63526833,  613.29416667, 1045.20262742, 1440.00126491,\n",
       "       1294.23949369, 1149.69132237,  901.25384437, 1448.40332624,\n",
       "       1770.21976112,  864.47171222, 4512.08661436,  932.51013364,\n",
       "       1637.4180885 ,  385.13544238,  813.166     ,  487.45032203,\n",
       "        791.12175777, 1496.35198572, 1620.19288795,  557.25602222,\n",
       "       1963.88027118, 1496.35198572,  483.14439167,  606.9821186 ,\n",
       "        896.03151134,  516.10130462,  882.7905472 , 1033.06030501,\n",
       "       2598.35619044, 1084.86340016, 1221.1578702 ,  937.12939292,\n",
       "       1492.700102  ,  837.24202469,  920.36614281,  901.25384437,\n",
       "       1452.00434638, 2086.97302398, 2178.89506209, 1146.7609056 ,\n",
       "        548.34605177, 2059.37421627,  385.13544238,  801.10419824,\n",
       "       1496.35198572, 1011.30671432,  536.03804551,  980.88535115,\n",
       "        385.13544238,  613.29416667, 1300.29337532, 1108.64944805,\n",
       "        532.30305365,  487.45032203, 1647.42498676, 1333.52752752,\n",
       "       1591.84799804,  826.85582076,  483.14439167, 1361.1795324 ,\n",
       "        791.46119674,  548.34605177, 1105.71160148,  760.52477075,\n",
       "        806.02374634,  421.18656622,  485.04074921,  483.14439167,\n",
       "       1333.52752752,  683.92259475,  857.18483933, 1856.24390452,\n",
       "        548.34605177,  705.39918502,  595.63812171,  920.36614281,\n",
       "       1710.95974033, 1693.81578968, 1440.00126491, 4139.30399667,\n",
       "        754.32032239, 1731.98458681, 2016.45449065, 1696.192607  ,\n",
       "        574.90452105, 1429.57427234, 1165.06367817, 2088.38807142,\n",
       "        458.47835465, 1109.86410032,  812.81648951,  536.85540277,\n",
       "        487.45032203,  760.52477075, 1664.05625363,  487.45032203,\n",
       "       1777.64672005, 1075.17749577, 1983.7817225 ,  598.81769226,\n",
       "       1248.52213818,  754.32032239, 1464.19752171])"
      ]
     },
     "execution_count": 55,
     "metadata": {},
     "output_type": "execute_result"
    }
   ],
   "source": [
    "predictions_submit = modelo.predict(X_pred)\n",
    "predictions_submit"
   ]
  },
  {
   "cell_type": "markdown",
   "metadata": {},
   "source": [
    "**¡OJO! ¿Por qué me da error?** "
   ]
  },
  {
   "cell_type": "markdown",
   "metadata": {},
   "source": [
    "IMPORTANTE:\n",
    "\n",
    "- SI EL ARRAY CON EL QUE HICISTEIS `.fit()` ERA DE 4 COLUMNAS, PARA `.predict()` DEBEN SER LAS MISMAS\n",
    "- SI AL ARRAY CON EL QUE HICISTEIS `.fit()` LO NORMALIZASTEIS, PARA `.predict()` DEBÉIS NORMALIZARLO\n",
    "- TODO IGUAL SALVO **BORRAR FILAS**, EL NÚMERO DE ROWS SE DEBE MANTENER EN ESTE SET, PUES LA PREDICCIÓN DEBE TENER **391 FILAS**, SI O SI"
   ]
  },
  {
   "cell_type": "markdown",
   "metadata": {},
   "source": [
    "**Entonces, si al cargar los datos de ``train.csv`` usaste `index_col=0`, ¿tendré que hacer lo también para el `test.csv`?**"
   ]
  },
  {
   "cell_type": "code",
   "execution_count": null,
   "metadata": {},
   "outputs": [],
   "source": [
    "# ¿Qué opináis?\n",
    "# ¿Sí, no?"
   ]
  },
  {
   "attachments": {
    "wow.jpeg": {
     "image/jpeg": "[encoded data removed]"
    }
   },
   "cell_type": "markdown",
   "metadata": {},
   "source": [
    "![wow.jpeg](attachment:wow.jpeg)"
   ]
  },
  {
   "cell_type": "markdown",
   "metadata": {},
   "source": [
    "## 3. **¿Qué es lo que subirás a Kaggle?**"
   ]
  },
  {
   "cell_type": "markdown",
   "metadata": {},
   "source": [
    "**Para subir a Kaggle la predicción esta tendrá que tener una forma específica.**\n",
    "\n",
    "En este caso, la **MISMA** forma que `sample_submission.csv`. "
   ]
  },
  {
   "cell_type": "code",
   "execution_count": 56,
   "metadata": {},
   "outputs": [],
   "source": [
    "sample = pd.read_csv(\"data/sample_submission.csv\")"
   ]
  },
  {
   "cell_type": "code",
   "execution_count": 57,
   "metadata": {},
   "outputs": [
    {
     "data": {
      "text/html": [
       "<div>\n",
       "<style scoped>\n",
       "    .dataframe tbody tr th:only-of-type {\n",
       "        vertical-align: middle;\n",
       "    }\n",
       "\n",
       "    .dataframe tbody tr th {\n",
       "        vertical-align: top;\n",
       "    }\n",
       "\n",
       "    .dataframe thead th {\n",
       "        text-align: right;\n",
       "    }\n",
       "</style>\n",
       "<table border=\"1\" class=\"dataframe\">\n",
       "  <thead>\n",
       "    <tr style=\"text-align: right;\">\n",
       "      <th></th>\n",
       "      <th>laptop_ID</th>\n",
       "      <th>Price_in_euros</th>\n",
       "    </tr>\n",
       "  </thead>\n",
       "  <tbody>\n",
       "    <tr>\n",
       "      <th>0</th>\n",
       "      <td>209</td>\n",
       "      <td>1949.1</td>\n",
       "    </tr>\n",
       "    <tr>\n",
       "      <th>1</th>\n",
       "      <td>1281</td>\n",
       "      <td>805.0</td>\n",
       "    </tr>\n",
       "    <tr>\n",
       "      <th>2</th>\n",
       "      <td>1168</td>\n",
       "      <td>1101.0</td>\n",
       "    </tr>\n",
       "    <tr>\n",
       "      <th>3</th>\n",
       "      <td>1231</td>\n",
       "      <td>1293.8</td>\n",
       "    </tr>\n",
       "    <tr>\n",
       "      <th>4</th>\n",
       "      <td>1020</td>\n",
       "      <td>1832.6</td>\n",
       "    </tr>\n",
       "  </tbody>\n",
       "</table>\n",
       "</div>"
      ],
      "text/plain": [
       "   laptop_ID  Price_in_euros\n",
       "0        209          1949.1\n",
       "1       1281           805.0\n",
       "2       1168          1101.0\n",
       "3       1231          1293.8\n",
       "4       1020          1832.6"
      ]
     },
     "execution_count": 57,
     "metadata": {},
     "output_type": "execute_result"
    }
   ],
   "source": [
    "sample.head()"
   ]
  },
  {
   "cell_type": "code",
   "execution_count": 58,
   "metadata": {},
   "outputs": [
    {
     "data": {
      "text/plain": [
       "(391, 2)"
      ]
     },
     "execution_count": 58,
     "metadata": {},
     "output_type": "execute_result"
    }
   ],
   "source": [
    "sample.shape"
   ]
  },
  {
   "cell_type": "markdown",
   "metadata": {},
   "source": [
    "## 4. Mete tus predicciones en un dataframe llamado ``submission``."
   ]
  },
  {
   "cell_type": "code",
   "execution_count": 62,
   "metadata": {},
   "outputs": [],
   "source": [
    "#¿Cómo creamos la submission?\n",
    "submission = pd.DataFrame({\"laptop_ID\":X_pred.index, \"Price_in_euros\":predictions_submit})"
   ]
  },
  {
   "cell_type": "code",
   "execution_count": 63,
   "metadata": {},
   "outputs": [
    {
     "data": {
      "text/html": [
       "<div>\n",
       "<style scoped>\n",
       "    .dataframe tbody tr th:only-of-type {\n",
       "        vertical-align: middle;\n",
       "    }\n",
       "\n",
       "    .dataframe tbody tr th {\n",
       "        vertical-align: top;\n",
       "    }\n",
       "\n",
       "    .dataframe thead th {\n",
       "        text-align: right;\n",
       "    }\n",
       "</style>\n",
       "<table border=\"1\" class=\"dataframe\">\n",
       "  <thead>\n",
       "    <tr style=\"text-align: right;\">\n",
       "      <th></th>\n",
       "      <th>laptop_ID</th>\n",
       "      <th>Price_in_euros</th>\n",
       "    </tr>\n",
       "  </thead>\n",
       "  <tbody>\n",
       "    <tr>\n",
       "      <th>0</th>\n",
       "      <td>209</td>\n",
       "      <td>1469.550438</td>\n",
       "    </tr>\n",
       "    <tr>\n",
       "      <th>1</th>\n",
       "      <td>1281</td>\n",
       "      <td>492.302831</td>\n",
       "    </tr>\n",
       "    <tr>\n",
       "      <th>2</th>\n",
       "      <td>1168</td>\n",
       "      <td>481.706777</td>\n",
       "    </tr>\n",
       "    <tr>\n",
       "      <th>3</th>\n",
       "      <td>1231</td>\n",
       "      <td>812.816490</td>\n",
       "    </tr>\n",
       "    <tr>\n",
       "      <th>4</th>\n",
       "      <td>1020</td>\n",
       "      <td>1067.147548</td>\n",
       "    </tr>\n",
       "  </tbody>\n",
       "</table>\n",
       "</div>"
      ],
      "text/plain": [
       "   laptop_ID  Price_in_euros\n",
       "0        209     1469.550438\n",
       "1       1281      492.302831\n",
       "2       1168      481.706777\n",
       "3       1231      812.816490\n",
       "4       1020     1067.147548"
      ]
     },
     "execution_count": 63,
     "metadata": {},
     "output_type": "execute_result"
    }
   ],
   "source": [
    "submission.head()"
   ]
  },
  {
   "cell_type": "code",
   "execution_count": 64,
   "metadata": {},
   "outputs": [
    {
     "data": {
      "text/plain": [
       "(391, 2)"
      ]
     },
     "execution_count": 64,
     "metadata": {},
     "output_type": "execute_result"
    }
   ],
   "source": [
    "submission.shape"
   ]
  },
  {
   "cell_type": "markdown",
   "metadata": {},
   "source": [
    "## 5. Pásale el CHEQUEADOR para comprobar que efectivamente está listo para subir a Kaggle."
   ]
  },
  {
   "cell_type": "code",
   "execution_count": 65,
   "metadata": {},
   "outputs": [],
   "source": [
    "def chequeador(df_to_submit):\n",
    "    \"\"\"\n",
    "    Esta función se asegura de que tu submission tenga la forma requerida por Kaggle.\n",
    "    \n",
    "    Si es así, se guardará el dataframe en un `csv` y estará listo para subir a Kaggle.\n",
    "    \n",
    "    Si no, LEE EL MENSAJE Y HAZLE CASO.\n",
    "    \n",
    "    Si aún no:\n",
    "    - apaga tu ordenador, \n",
    "    - date una vuelta, \n",
    "    - enciendelo otra vez, \n",
    "    - abre este notebook y \n",
    "    - leelo todo de nuevo. \n",
    "    Todos nos merecemos una segunda oportunidad. También tú.\n",
    "    \"\"\"\n",
    "    if df_to_submit.shape == sample.shape:\n",
    "        if df_to_submit.columns.all() == sample.columns.all():\n",
    "            if df_to_submit.laptop_ID.all() == sample.laptop_ID.all():\n",
    "                print(\"You're ready to submit!\")\n",
    "                df_to_submit.to_csv(\"submission.csv\", index = False) #muy importante el index = False\n",
    "                urllib.request.urlretrieve(\"https://www.mihaileric.com/static/evaluation-meme-e0a350f278a36346e6d46b139b1d0da0-ed51e.jpg\", \"gfg.png\")     \n",
    "                img = Image.open(\"gfg.png\")\n",
    "                img.show()   \n",
    "            else:\n",
    "                print(\"Check the ids and try again\")\n",
    "        else:\n",
    "            print(\"Check the names of the columns and try again\")\n",
    "    else:\n",
    "        print(\"Check the number of rows and/or columns and try again\")\n",
    "        print(\"\\nMensaje secreto del TA: No me puedo creer que después de todo este notebook hayas hecho algún cambio en las filas de `test.csv`. Lloro.\")"
   ]
  },
  {
   "cell_type": "code",
   "execution_count": 66,
   "metadata": {},
   "outputs": [
    {
     "name": "stdout",
     "output_type": "stream",
     "text": [
      "You're ready to submit!\n"
     ]
    }
   ],
   "source": [
    "chequeador(submission)"
   ]
  }
 ],
 "metadata": {
  "kernelspec": {
   "display_name": "Python 3",
   "language": "python",
   "name": "python3"
  },
  "language_info": {
   "codemirror_mode": {
    "name": "ipython",
    "version": 3
   },
   "file_extension": ".py",
   "mimetype": "text/x-python",
   "name": "python",
   "nbconvert_exporter": "python",
   "pygments_lexer": "ipython3",
   "version": "3.10.11"
  }
 },
 "nbformat": 4,
 "nbformat_minor": 4
}
