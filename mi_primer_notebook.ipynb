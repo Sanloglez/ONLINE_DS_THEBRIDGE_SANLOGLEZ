{
 "cells": [
  {
   "cell_type": "code",
   "execution_count": 1,
   "id": "577b764c-b808-47a7-a31c-e321c695b534",
   "metadata": {},
   "outputs": [
    {
     "name": "stdout",
     "output_type": "stream",
     "text": [
      "Hola Mundo\n"
     ]
    }
   ],
   "source": [
    "print(\"Hola Mundo\")\n"
   ]
  },
  {
   "cell_type": "markdown",
   "id": "a4732df6-325c-40fa-8a11-22f12dedbd20",
   "metadata": {},
   "source": [
    "Hola mundo"
   ]
  },
  {
   "cell_type": "code",
   "execution_count": null,
   "id": "e309f669-2b02-4685-8abc-7f9183e477c6",
   "metadata": {},
   "outputs": [],
   "source": []
  }
 ],
 "metadata": {
  "kernelspec": {
   "display_name": "Python 3 (ipykernel)",
   "language": "python",
   "name": "python3"
  },
  "language_info": {
   "codemirror_mode": {
    "name": "ipython",
    "version": 3
   },
   "file_extension": ".py",
   "mimetype": "text/x-python",
   "name": "python",
   "nbconvert_exporter": "python",
   "pygments_lexer": "ipython3",
   "version": "3.10.11"
  }
 },
 "nbformat": 4,
 "nbformat_minor": 5
}
