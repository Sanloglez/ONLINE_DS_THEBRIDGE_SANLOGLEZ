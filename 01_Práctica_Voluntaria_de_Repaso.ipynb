{
  "cells": [
    {
      "cell_type": "markdown",
      "metadata": {
        "id": "view-in-github",
        "colab_type": "text"
      },
      "source": [
        "<a href=\"https://colab.research.google.com/github/Sanloglez/ONLINE_DS_THEBRIDGE_SANLOGLEZ/blob/main/01_Pr%C3%A1ctica_Voluntaria_de_Repaso.ipynb\" target=\"_parent\"><img src=\"https://colab.research.google.com/assets/colab-badge.svg\" alt=\"Open In Colab\"/></a>"
      ]
    },
    {
      "cell_type": "markdown",
      "metadata": {
        "id": "q05AUCvH8X97"
      },
      "source": [
        "![TheBridge_logo_RGB_color.jpg](attachment:TheBridge_logo_RGB_color.jpg)"
      ]
    },
    {
      "cell_type": "markdown",
      "metadata": {
        "id": "85v3oO0T8X-E"
      },
      "source": [
        "# Ejercicio Warm-up La Biblioteca | Repaso Week 1\n",
        "\n",
        "El siguiente ejercicio no es obligatorio pero te vendrá muy bien completarlo para recuperar conocimiento de la primera semana y entrar con buen en esta segunda semana que concluye con el ejercicio de Ramp-up."
      ]
    },
    {
      "cell_type": "markdown",
      "metadata": {
        "id": "rLN5LR_W8X-G"
      },
      "source": [
        "![biblioteca](https://static2.abc.es/media/familia/2018/11/02/AdobeStock_210538561-kJTF--620x349@abc.jpg)"
      ]
    },
    {
      "cell_type": "markdown",
      "metadata": {
        "id": "rJX0GXoB8X-H"
      },
      "source": [
        "Es tu primer día de trabajo en la Biblioteca de tu barrio y ya tienes tu primera tarea. Te acaban de pasar una lista con libros y la lista de unidades disponibles."
      ]
    },
    {
      "cell_type": "code",
      "execution_count": null,
      "metadata": {
        "id": "yEZ71nVm8X-I"
      },
      "outputs": [],
      "source": [
        "libros = [\"El mal de Corcira\", \"Un mundo feliz\", \"Lolita\", \"Crimen y castigo\", \"Python from for to pro\",\\\n",
        "          \"El señor de los anillos\", \"Cien años de soledad\", \"Harry Potter\", \"Lectura Fácil\", \"Seda\",\\\n",
        "          \"La chica de nieve\", \"El día que se perdió la cordura\", \"Data Science\"]"
      ]
    },
    {
      "cell_type": "code",
      "execution_count": null,
      "metadata": {
        "id": "zRc4IhDZ8X-K"
      },
      "outputs": [],
      "source": [
        "biblioteca = [(\"El mal de Corcira\",4),(\"Un mundo feliz\", 2),(\"Lolita\", 5),\\\n",
        "              (\"Crimen y castigo\",2),(\"Python from for to pro\", 0),(\"El señor de los anillos\", 6),\\\n",
        "              (\"Cien años de soledad\", 5),(\"Harry Potter\", 9),(\"Lectura Fácil\", 4),(\"Seda\", 2),\\\n",
        "              (\"La chica de nieve\", 6),(\"El día que se perdió la cordura\", 3), (\"Data Science\", 0)]"
      ]
    },
    {
      "cell_type": "markdown",
      "metadata": {
        "id": "Ds20FlT_8X-K"
      },
      "source": [
        "1. ¿Cuántos títulos diferentes tienen en esta biblioteca?"
      ]
    },
    {
      "cell_type": "code",
      "execution_count": 8,
      "metadata": {
        "colab": {
          "base_uri": "https://localhost:8080/"
        },
        "id": "3HSIQDWM8X-L",
        "outputId": "48c9d85a-a005-4377-ebfd-5102c9b6c956"
      },
      "outputs": [
        {
          "output_type": "stream",
          "name": "stdout",
          "text": [
            "El nº de títulos diferentes en la biblioteca es de  13\n",
            "El total de libros disponibles en la biblioteca es: 48\n"
          ]
        }
      ],
      "source": [
        "# Si preguntan por la cantidad de títulos diferentes en la biblioteca:\n",
        "biblioteca = [(\"El mal de Corcira\",4),(\"Un mundo feliz\", 2),(\"Lolita\", 5),\\\n",
        "              (\"Crimen y castigo\",2),(\"Python from for to pro\", 0),(\"El señor de los anillos\", 6),\\\n",
        "              (\"Cien años de soledad\", 5),(\"Harry Potter\", 9),(\"Lectura Fácil\", 4),(\"Seda\", 2),\\\n",
        "              (\"La chica de nieve\", 6),(\"El día que se perdió la cordura\", 3), (\"Data Science\", 0)]\n",
        "print(\"El nº de títulos diferentes en la biblioteca es de \", len(biblioteca))\n",
        "\n",
        "# Si preguntan por la cantidad total de libros disponibles (sumando todas las unidades de cada título):\n",
        "libros_disponibles = sum(unidades for titulo, unidades in biblioteca)\n",
        "print(f\"El total de libros disponibles en la biblioteca es: {libros_disponibles}\")\n"
      ]
    },
    {
      "cell_type": "markdown",
      "metadata": {
        "id": "dktLcHE-8X-M"
      },
      "source": [
        "2. ¿Cuántas letras componen la palabra *Seda*?"
      ]
    },
    {
      "cell_type": "code",
      "execution_count": 10,
      "metadata": {
        "colab": {
          "base_uri": "https://localhost:8080/"
        },
        "id": "q1EgWX0Z8X-M",
        "outputId": "57917386-5c5e-4a1d-f085-f0646dc48123"
      },
      "outputs": [
        {
          "output_type": "execute_result",
          "data": {
            "text/plain": [
              "4"
            ]
          },
          "metadata": {},
          "execution_count": 10
        }
      ],
      "source": [
        "palabra = \"Seda\"\n",
        "len(palabra)\n"
      ]
    },
    {
      "cell_type": "markdown",
      "metadata": {
        "id": "03ooO9RQ8X-M"
      },
      "source": [
        "3. ¿Cuántas unidades hay del libro *Seda*?"
      ]
    },
    {
      "cell_type": "code",
      "execution_count": 11,
      "metadata": {
        "colab": {
          "base_uri": "https://localhost:8080/"
        },
        "id": "Y3m5Yw8v8X-N",
        "outputId": "bfa20213-42b8-4158-a9cb-5c5d6e18ffec"
      },
      "outputs": [
        {
          "output_type": "stream",
          "name": "stdout",
          "text": [
            "El libro 'Seda' tiene 2 unidades disponibles.\n"
          ]
        }
      ],
      "source": [
        "for titulo, unidades in biblioteca:\n",
        "  if titulo == \"Seda\":\n",
        "    print(f\"El libro '{titulo}' tiene {unidades} unidades disponibles.\")\n",
        "    break\n"
      ]
    },
    {
      "cell_type": "markdown",
      "metadata": {
        "id": "7q-5y6yV8X-N"
      },
      "source": [
        "4. Quien registraba los libros antes de ti dejo pendiente de añadir a la lista **libros** la variable **pendiente**, además debió confundir el famoso libro de George Orwell *1984*, con un número, asignándolo como un integer.\n",
        "¿Puedes cambiarlo y pasar a string este elemento y añadirlo a **libros**?"
      ]
    },
    {
      "cell_type": "code",
      "execution_count": 12,
      "metadata": {
        "colab": {
          "base_uri": "https://localhost:8080/"
        },
        "id": "gfOTjpS78X-N",
        "outputId": "573053ca-0b0a-457e-b8e9-92cb9bbde27c"
      },
      "outputs": [
        {
          "output_type": "stream",
          "name": "stdout",
          "text": [
            "['El mal de Corcira', 'Un mundo feliz', 'Lolita', 'Crimen y castigo', 'Python from for to pro', 'El señor de los anillos', 'Cien años de soledad', 'Harry Potter', 'Lectura Fácil', 'Seda', 'La chica de nieve', 'El día que se perdió la cordura', 'Data Science', '1984']\n"
          ]
        }
      ],
      "source": [
        "pendiente = 1984\n",
        "pendiente = str(pendiente)\n",
        "libros.append(pendiente)\n",
        "print(libros)"
      ]
    },
    {
      "cell_type": "code",
      "execution_count": null,
      "metadata": {
        "id": "BeQpr7MW8X-N"
      },
      "outputs": [],
      "source": [
        "#your code here"
      ]
    },
    {
      "cell_type": "markdown",
      "metadata": {
        "id": "C02B2-wh8X-O"
      },
      "source": [
        "5. Te piden que añadas a esta lista el nuevo libro de Los Juegos del hambre que se titula *Balada de pájaros cantores y serpientes*. Has contado las unidades y han llegado 10.\n",
        "\n",
        "    a. Crea una variable con el título del libro, que se llame **libro_1**. Añade este elemento a la lista **libros**.\n",
        "\n",
        "    b. Crea una variable con el número de unidades, que se llame **uds_1**.\n",
        "\n",
        "    c. Crea una variable que sea una lista llamada **nuevo_libro** en el que su primer elemento sea **libro_1** y el segundo **uds_1**.\n",
        "\n",
        "    d. Convierte a **nuevo_libro** a tupla.\n",
        "    (muestra qué tipo es ahora esta variable)\n",
        "\n",
        "    e. Añade **nuevo_libro** a la lista **biblioteca**"
      ]
    },
    {
      "cell_type": "code",
      "execution_count": 16,
      "metadata": {
        "colab": {
          "base_uri": "https://localhost:8080/"
        },
        "id": "ZWtg84v58X-O",
        "outputId": "42e294f1-7773-40d0-d543-fbebbb780e91"
      },
      "outputs": [
        {
          "output_type": "stream",
          "name": "stdout",
          "text": [
            "[('El mal de Corcira', 4), ('Un mundo feliz', 2), ('Lolita', 5), ('Crimen y castigo', 2), ('Python from for to pro', 0), ('El señor de los anillos', 6), ('Cien años de soledad', 5), ('Harry Potter', 9), ('Lectura Fácil', 4), ('Seda', 2), ('La chica de nieve', 6), ('El día que se perdió la cordura', 3), ('Data Science', 0), ('Los Juegos del hambre: Balada de pájaros cantores y serpientes', 10)]\n"
          ]
        }
      ],
      "source": [
        "libro_1 = \"Los Juegos del hambre: Balada de pájaros cantores y serpientes\"\n",
        "libros.append(libro_1)\n",
        "uds_1 = 10\n",
        "nuevo_libro = (libro_1, uds_1)\n",
        "biblioteca.append(nuevo_libro)\n",
        "print(biblioteca)\n"
      ]
    },
    {
      "cell_type": "markdown",
      "metadata": {
        "id": "lJ_FlrL78X-O"
      },
      "source": [
        "6. Acaban de traer una unidad más de *El mal de Corcira*, añade una unidad más al segundo elemento del primer elemento de la lista **biblioteca**."
      ]
    },
    {
      "cell_type": "code",
      "execution_count": 20,
      "metadata": {
        "colab": {
          "base_uri": "https://localhost:8080/"
        },
        "id": "DwCBjs7P8X-O",
        "outputId": "c27d7aa0-0fb0-4476-a051-4eda5cf68f04"
      },
      "outputs": [
        {
          "output_type": "stream",
          "name": "stdout",
          "text": [
            "('El mal de Corcira', 8)\n"
          ]
        }
      ],
      "source": [
        "titulo, unidades = biblioteca[0]\n",
        "biblioteca[0] = (titulo, unidades + 1)\n",
        "print(biblioteca[0])"
      ]
    },
    {
      "cell_type": "code",
      "execution_count": null,
      "metadata": {
        "id": "uuUIOlfc8X-P",
        "outputId": "435f73d9-7481-40e7-be9c-ef07d94af576"
      },
      "outputs": [
        {
          "data": {
            "text/plain": [
              "4"
            ]
          },
          "execution_count": 10,
          "metadata": {},
          "output_type": "execute_result"
        }
      ],
      "source": []
    },
    {
      "cell_type": "code",
      "execution_count": null,
      "metadata": {
        "id": "bVT_UPtb8X-Q"
      },
      "outputs": [],
      "source": []
    },
    {
      "cell_type": "markdown",
      "metadata": {
        "id": "Vzp1ezoU8X-Q"
      },
      "source": [
        "¿Cómo se te ocurre que podrías alterar este dato?"
      ]
    },
    {
      "cell_type": "code",
      "execution_count": null,
      "metadata": {
        "id": "lfEsbpQx8X-Q"
      },
      "outputs": [],
      "source": [
        "#your comment here"
      ]
    },
    {
      "cell_type": "markdown",
      "metadata": {
        "id": "UlqgfxRG8X-Q"
      },
      "source": [
        "Convierte la tupla en una lista para poder modificar el segundo elemento y añadir esta unidad. Asigna la tupla convertida a lista a la variable **tup_to_list** haz los cambios, agrega la unidad y vuelve a añadir la lista ya convertida en tupla a la lista **biblioteca**."
      ]
    },
    {
      "cell_type": "code",
      "execution_count": null,
      "metadata": {
        "id": "QWb6NWK68X-Q"
      },
      "outputs": [],
      "source": [
        "\n"
      ]
    },
    {
      "cell_type": "markdown",
      "metadata": {
        "id": "pwLgXx9O8X-R"
      },
      "source": [
        "Ahora, tenemos dos tuplas con el libro *El mal de Corcira*, pero esto no es lo que queremos. Elimina el primer elemento de la lista **biblioteca**.\n",
        "\n",
        "Hint: https://www.programiz.com/python-programming/methods/list/remove"
      ]
    },
    {
      "cell_type": "code",
      "execution_count": null,
      "metadata": {
        "id": "5vzCwcJc8X-R"
      },
      "outputs": [],
      "source": [
        "#your code here\n"
      ]
    },
    {
      "cell_type": "markdown",
      "metadata": {
        "id": "zm_Yn2xx8X-R"
      },
      "source": [
        "7. Te han pedido que localices los títulos de los libros de los que no disponen de unidades. Es decir, su segundo elemento, es igual a 0."
      ]
    },
    {
      "cell_type": "code",
      "execution_count": 24,
      "metadata": {
        "colab": {
          "base_uri": "https://localhost:8080/"
        },
        "id": "muz0ByWp8X-R",
        "outputId": "bf851338-0b44-4460-9208-1330e3b6ae28"
      },
      "outputs": [
        {
          "output_type": "stream",
          "name": "stdout",
          "text": [
            "El libro 'Python from for to pro' tienen 0 unidades disponibles.\n",
            "El libro 'Data Science' tienen 0 unidades disponibles.\n"
          ]
        }
      ],
      "source": [
        "for titulo, unidades in biblioteca:\n",
        "  if unidades == 0:\n",
        "    print(f\"El libro '{titulo}' tienen {unidades} unidades disponibles.\")\n",
        "\n",
        "\n"
      ]
    },
    {
      "cell_type": "markdown",
      "metadata": {
        "id": "x7ZtLS_88X-S"
      },
      "source": [
        "8. ¿Cómo meterías estos dos elementos en una lista llamada **missing**?"
      ]
    },
    {
      "cell_type": "code",
      "execution_count": 25,
      "metadata": {
        "colab": {
          "base_uri": "https://localhost:8080/"
        },
        "id": "HCWQjean8X-S",
        "outputId": "0e6c7091-31d5-4d97-8503-e0fc738f1661"
      },
      "outputs": [
        {
          "output_type": "stream",
          "name": "stdout",
          "text": [
            "Libros sin unidades: ['Python from for to pro', 'Data Science']\n"
          ]
        }
      ],
      "source": [
        "missing = []\n",
        "for titulo, unidades in biblioteca:\n",
        "  if unidades == 0:\n",
        "    missing.append(titulo)\n",
        "print(\"Libros sin unidades:\", missing)"
      ]
    }
  ],
  "metadata": {
    "kernelspec": {
      "display_name": "Python 3",
      "language": "python",
      "name": "python3"
    },
    "language_info": {
      "codemirror_mode": {
        "name": "ipython",
        "version": 3
      },
      "file_extension": ".py",
      "mimetype": "text/x-python",
      "name": "python",
      "nbconvert_exporter": "python",
      "pygments_lexer": "ipython3",
      "version": "3.8.3"
    },
    "colab": {
      "provenance": [],
      "include_colab_link": true
    }
  },
  "nbformat": 4,
  "nbformat_minor": 0
}